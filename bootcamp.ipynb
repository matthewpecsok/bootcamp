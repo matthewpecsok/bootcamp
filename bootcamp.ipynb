{
  "nbformat": 4,
  "nbformat_minor": 0,
  "metadata": {
    "colab": {
      "provenance": [],
      "authorship_tag": "ABX9TyNfhLqr6t2K5ltT8Aj1JsFA",
      "include_colab_link": true
    },
    "kernelspec": {
      "name": "python3",
      "display_name": "Python 3"
    },
    "language_info": {
      "name": "python"
    }
  },
  "cells": [
    {
      "cell_type": "markdown",
      "metadata": {
        "id": "view-in-github",
        "colab_type": "text"
      },
      "source": [
        "<a href=\"https://colab.research.google.com/github/matthewpecsok/bootcamp/blob/main/bootcamp.ipynb\" target=\"_parent\"><img src=\"https://colab.research.google.com/assets/colab-badge.svg\" alt=\"Open In Colab\"/></a>"
      ]
    },
    {
      "cell_type": "markdown",
      "source": [
        "# Basic Syntax and Variables"
      ],
      "metadata": {
        "id": "4QXKJ98uoct3"
      }
    },
    {
      "cell_type": "code",
      "source": [
        "print(\"Hello World!\")"
      ],
      "metadata": {
        "colab": {
          "base_uri": "https://localhost:8080/"
        },
        "id": "GukSQ96w-Cyf",
        "outputId": "da61e0a9-4003-4405-812a-fe1bdf85151e"
      },
      "execution_count": null,
      "outputs": [
        {
          "output_type": "stream",
          "name": "stdout",
          "text": [
            "Hello World!\n"
          ]
        }
      ]
    },
    {
      "cell_type": "code",
      "source": [
        "\"Hello World!\""
      ],
      "metadata": {
        "colab": {
          "base_uri": "https://localhost:8080/",
          "height": 35
        },
        "id": "wZ9Wf9kO-n_-",
        "outputId": "227123c0-cee0-41f0-c52d-dd0d7fbff22f"
      },
      "execution_count": null,
      "outputs": [
        {
          "output_type": "execute_result",
          "data": {
            "text/plain": [
              "'Hello World!'"
            ],
            "application/vnd.google.colaboratory.intrinsic+json": {
              "type": "string"
            }
          },
          "metadata": {},
          "execution_count": 2
        }
      ]
    },
    {
      "cell_type": "markdown",
      "source": [
        "Errors!\n",
        "\n",
        "It's the best place to start. Because you'll create lots of them."
      ],
      "metadata": {
        "id": "3lqEBXwl619s"
      }
    },
    {
      "cell_type": "markdown",
      "source": [
        "The first type of error we'll cover is syntax error. Get used to it. Incorrect code will often generate syntax errors."
      ],
      "metadata": {
        "id": "udjuCh0g7WKO"
      }
    },
    {
      "cell_type": "code",
      "source": [
        "1 = 2"
      ],
      "metadata": {
        "colab": {
          "base_uri": "https://localhost:8080/",
          "height": 141
        },
        "id": "ru9vcwTX61lf",
        "outputId": "55b1b77e-89d7-4b78-ac01-c10c2a303895"
      },
      "execution_count": null,
      "outputs": [
        {
          "output_type": "error",
          "ename": "SyntaxError",
          "evalue": "ignored",
          "traceback": [
            "\u001b[0;36m  File \u001b[0;32m\"<ipython-input-3-c0ab9e3898ea>\"\u001b[0;36m, line \u001b[0;32m1\u001b[0m\n\u001b[0;31m    1 = 2\u001b[0m\n\u001b[0m    ^\u001b[0m\n\u001b[0;31mSyntaxError\u001b[0m\u001b[0;31m:\u001b[0m cannot assign to literal here. Maybe you meant '==' instead of '='?\n"
          ]
        }
      ]
    },
    {
      "cell_type": "code",
      "source": [
        "\"Hello World"
      ],
      "metadata": {
        "colab": {
          "base_uri": "https://localhost:8080/",
          "height": 141
        },
        "id": "9XrIonC97m34",
        "outputId": "3dfe4277-c2ac-4133-8693-e01c8de0e34c"
      },
      "execution_count": null,
      "outputs": [
        {
          "output_type": "error",
          "ename": "SyntaxError",
          "evalue": "ignored",
          "traceback": [
            "\u001b[0;36m  File \u001b[0;32m\"<ipython-input-4-b32974032f81>\"\u001b[0;36m, line \u001b[0;32m1\u001b[0m\n\u001b[0;31m    \"Hello World\u001b[0m\n\u001b[0m    ^\u001b[0m\n\u001b[0;31mSyntaxError\u001b[0m\u001b[0;31m:\u001b[0m unterminated string literal (detected at line 1)\n"
          ]
        }
      ]
    },
    {
      "cell_type": "markdown",
      "source": [
        "## literals"
      ],
      "metadata": {
        "id": "3FVCqWXIEYCk"
      }
    },
    {
      "cell_type": "markdown",
      "source": [
        "string literals\n",
        "\n",
        "a string can contain, letters, numbers special characters etc."
      ],
      "metadata": {
        "id": "b7vvxHrCEoGd"
      }
    },
    {
      "cell_type": "code",
      "execution_count": null,
      "metadata": {
        "colab": {
          "base_uri": "https://localhost:8080/",
          "height": 36
        },
        "id": "fsSuvtzADiJ2",
        "outputId": "6b3e1033-4b52-41b5-cf3e-887233a10333"
      },
      "outputs": [
        {
          "output_type": "execute_result",
          "data": {
            "text/plain": [
              "'hello world!'"
            ],
            "application/vnd.google.colaboratory.intrinsic+json": {
              "type": "string"
            }
          },
          "metadata": {},
          "execution_count": 46
        }
      ],
      "source": [
        "\"hello world!\""
      ]
    },
    {
      "cell_type": "code",
      "source": [
        "print(\"hello world!\")"
      ],
      "metadata": {
        "colab": {
          "base_uri": "https://localhost:8080/"
        },
        "id": "XmvCYHYdDvg9",
        "outputId": "f15196e0-19ee-400c-dceb-18addd7a348e"
      },
      "execution_count": null,
      "outputs": [
        {
          "output_type": "stream",
          "name": "stdout",
          "text": [
            "hello world!\n"
          ]
        }
      ]
    },
    {
      "cell_type": "code",
      "source": [
        "print(\"hello \"+ \"world!\")"
      ],
      "metadata": {
        "colab": {
          "base_uri": "https://localhost:8080/"
        },
        "id": "wNPqsYZyD-7Q",
        "outputId": "15866d47-27d8-4896-8d8b-30923eeeaed8"
      },
      "execution_count": null,
      "outputs": [
        {
          "output_type": "stream",
          "name": "stdout",
          "text": [
            "hello world!\n"
          ]
        }
      ]
    },
    {
      "cell_type": "markdown",
      "source": [
        "you try"
      ],
      "metadata": {
        "id": "_VxeguPcW1Sd"
      }
    },
    {
      "cell_type": "code",
      "source": [
        "# create a string literal and display it"
      ],
      "metadata": {
        "id": "RB2e3082W3y6"
      },
      "execution_count": null,
      "outputs": []
    },
    {
      "cell_type": "markdown",
      "source": [
        "numeric literals"
      ],
      "metadata": {
        "id": "MYlR2tdvEy48"
      }
    },
    {
      "cell_type": "code",
      "source": [
        "4"
      ],
      "metadata": {
        "colab": {
          "base_uri": "https://localhost:8080/"
        },
        "id": "gaqhjBPXEwAl",
        "outputId": "a54c8e28-3ae3-483e-d922-fee298b937f3"
      },
      "execution_count": null,
      "outputs": [
        {
          "output_type": "execute_result",
          "data": {
            "text/plain": [
              "4"
            ]
          },
          "metadata": {},
          "execution_count": 49
        }
      ]
    },
    {
      "cell_type": "markdown",
      "source": [
        "you try"
      ],
      "metadata": {
        "id": "bj0HP9MYXAoi"
      }
    },
    {
      "cell_type": "code",
      "source": [
        "# create a numeric literal and display it"
      ],
      "metadata": {
        "id": "QZmvtNH8XDQ4",
        "colab": {
          "base_uri": "https://localhost:8080/"
        },
        "outputId": "a82b2504-0db7-406e-a1eb-a9296bccea5f"
      },
      "execution_count": null,
      "outputs": [
        {
          "output_type": "execute_result",
          "data": {
            "text/plain": [
              "9"
            ]
          },
          "metadata": {},
          "execution_count": 5
        }
      ]
    },
    {
      "cell_type": "markdown",
      "source": [
        "addition with literals"
      ],
      "metadata": {
        "id": "P_EARnx5E1TJ"
      }
    },
    {
      "cell_type": "code",
      "source": [
        "1+6"
      ],
      "metadata": {
        "colab": {
          "base_uri": "https://localhost:8080/"
        },
        "id": "TzFojmBPD4Ez",
        "outputId": "aa05f6c5-be80-42c4-8b25-4beb43cb055c"
      },
      "execution_count": null,
      "outputs": [
        {
          "output_type": "execute_result",
          "data": {
            "text/plain": [
              "13"
            ]
          },
          "metadata": {},
          "execution_count": 6
        }
      ]
    },
    {
      "cell_type": "markdown",
      "source": [
        "you try\n",
        "\n"
      ],
      "metadata": {
        "id": "TCPbGgVYFEa5"
      }
    },
    {
      "cell_type": "code",
      "source": [
        "# addition with two numeric literals\n",
        "\n"
      ],
      "metadata": {
        "id": "BK_JdBtgFG59"
      },
      "execution_count": null,
      "outputs": []
    },
    {
      "cell_type": "markdown",
      "source": [
        "you try"
      ],
      "metadata": {
        "id": "7jPCrkAiFZjq"
      }
    },
    {
      "cell_type": "code",
      "source": [
        "# multiply two numeric literals"
      ],
      "metadata": {
        "id": "8LtccQVdXYUO"
      },
      "execution_count": null,
      "outputs": []
    },
    {
      "cell_type": "markdown",
      "source": [
        "literals are more useful when their values are assigned to a variable."
      ],
      "metadata": {
        "id": "EQRi5l0gFlu9"
      }
    },
    {
      "cell_type": "markdown",
      "source": [
        "## comments"
      ],
      "metadata": {
        "id": "7nu21TXkTcoe"
      }
    },
    {
      "cell_type": "code",
      "source": [
        "2 + 4 # this is a comment. it's not code"
      ],
      "metadata": {
        "colab": {
          "base_uri": "https://localhost:8080/"
        },
        "id": "IH7GDeqnTSuC",
        "outputId": "548b6548-731d-40f7-b0a3-826ace7f5269"
      },
      "execution_count": null,
      "outputs": [
        {
          "output_type": "execute_result",
          "data": {
            "text/plain": [
              "6"
            ]
          },
          "metadata": {},
          "execution_count": 51
        }
      ]
    },
    {
      "cell_type": "markdown",
      "source": [
        "## variables"
      ],
      "metadata": {
        "id": "8hUcQBR3IZWn"
      }
    },
    {
      "cell_type": "markdown",
      "source": [
        "we use the = assignment operator to assign the literal value to a variable\n",
        "\n",
        "other operators are + / - *\n"
      ],
      "metadata": {
        "id": "U72BkjM9OAtS"
      }
    },
    {
      "cell_type": "markdown",
      "source": [
        "### string\n",
        "\n",
        "https://www.w3schools.com/python/python_strings.asp\n",
        "\n",
        "Are objects. More later."
      ],
      "metadata": {
        "id": "AXT7f0K6RHQC"
      }
    },
    {
      "cell_type": "code",
      "source": [
        "my_name = \"Matt\"\n",
        "\n",
        "my_name"
      ],
      "metadata": {
        "colab": {
          "base_uri": "https://localhost:8080/",
          "height": 36
        },
        "id": "u6CunVgRFr2K",
        "outputId": "cd0e6a70-3b19-4f4c-88de-53051e160b55"
      },
      "execution_count": null,
      "outputs": [
        {
          "output_type": "execute_result",
          "data": {
            "text/plain": [
              "'Matt'"
            ],
            "application/vnd.google.colaboratory.intrinsic+json": {
              "type": "string"
            }
          },
          "metadata": {},
          "execution_count": 52
        }
      ]
    },
    {
      "cell_type": "code",
      "source": [
        "type(my_name)"
      ],
      "metadata": {
        "colab": {
          "base_uri": "https://localhost:8080/"
        },
        "id": "-opuHmKxFvcw",
        "outputId": "613f597d-f321-48e1-fe9d-34896dc6a3f3"
      },
      "execution_count": null,
      "outputs": [
        {
          "output_type": "execute_result",
          "data": {
            "text/plain": [
              "str"
            ]
          },
          "metadata": {},
          "execution_count": 53
        }
      ]
    },
    {
      "cell_type": "code",
      "source": [
        "# create a string variable and display it\n",
        "\n"
      ],
      "metadata": {
        "id": "3wxeWqA8bqFw",
        "colab": {
          "base_uri": "https://localhost:8080/",
          "height": 35
        },
        "outputId": "ce4113fb-0879-4956-e4f5-6732bd967826"
      },
      "execution_count": null,
      "outputs": [
        {
          "output_type": "execute_result",
          "data": {
            "text/plain": [
              "'Jill'"
            ],
            "application/vnd.google.colaboratory.intrinsic+json": {
              "type": "string"
            }
          },
          "metadata": {},
          "execution_count": 11
        }
      ]
    },
    {
      "cell_type": "markdown",
      "source": [
        "we use the type function and pass in my_name. the return value tells us what type of variable my_name is. given that we assigned a string literal to it, it should be no surprise that it is a string type (str)."
      ],
      "metadata": {
        "id": "774WReLYFzWy"
      }
    },
    {
      "cell_type": "code",
      "source": [
        "first_name = \"Matthew\""
      ],
      "metadata": {
        "id": "wcqLY_XrzspP"
      },
      "execution_count": null,
      "outputs": []
    },
    {
      "cell_type": "markdown",
      "source": [
        "#### len\n",
        "\n",
        "Find the length of the string"
      ],
      "metadata": {
        "id": "8JU4UCBQz_7Z"
      }
    },
    {
      "cell_type": "code",
      "source": [
        "len(first_name)"
      ],
      "metadata": {
        "colab": {
          "base_uri": "https://localhost:8080/"
        },
        "id": "SUz0fZHuz4OD",
        "outputId": "93df6acb-7be9-4f28-e2fb-90d57ef0e023"
      },
      "execution_count": null,
      "outputs": [
        {
          "output_type": "execute_result",
          "data": {
            "text/plain": [
              "7"
            ]
          },
          "metadata": {},
          "execution_count": 15
        }
      ]
    },
    {
      "cell_type": "markdown",
      "source": [
        "#### slice\n",
        "\n",
        "get the first 4 elements. strings are arrays so array slicing syntax works."
      ],
      "metadata": {
        "id": "gHPwMiyx0IGl"
      }
    },
    {
      "cell_type": "code",
      "source": [
        "first_name[0:4]"
      ],
      "metadata": {
        "colab": {
          "base_uri": "https://localhost:8080/",
          "height": 176
        },
        "id": "bKQeHAIN0FHQ",
        "outputId": "3ed27f45-6aad-492d-bcc6-82bf5285e294"
      },
      "execution_count": null,
      "outputs": [
        {
          "output_type": "error",
          "ename": "NameError",
          "evalue": "ignored",
          "traceback": [
            "\u001b[0;31m---------------------------------------------------------------------------\u001b[0m",
            "\u001b[0;31mNameError\u001b[0m                                 Traceback (most recent call last)",
            "\u001b[0;32m<ipython-input-1-50bfa6f1975c>\u001b[0m in \u001b[0;36m<cell line: 1>\u001b[0;34m()\u001b[0m\n\u001b[0;32m----> 1\u001b[0;31m \u001b[0mfirst_name\u001b[0m\u001b[0;34m[\u001b[0m\u001b[0;36m0\u001b[0m\u001b[0;34m:\u001b[0m\u001b[0;36m4\u001b[0m\u001b[0;34m]\u001b[0m\u001b[0;34m\u001b[0m\u001b[0;34m\u001b[0m\u001b[0m\n\u001b[0m",
            "\u001b[0;31mNameError\u001b[0m: name 'first_name' is not defined"
          ]
        }
      ]
    },
    {
      "cell_type": "code",
      "source": [
        "first_name[4:]"
      ],
      "metadata": {
        "colab": {
          "base_uri": "https://localhost:8080/",
          "height": 35
        },
        "id": "1awfwl-X1m1U",
        "outputId": "4447f137-85ad-4140-e0aa-afc109cc9e90"
      },
      "execution_count": null,
      "outputs": [
        {
          "output_type": "execute_result",
          "data": {
            "text/plain": [
              "'hew'"
            ],
            "application/vnd.google.colaboratory.intrinsic+json": {
              "type": "string"
            }
          },
          "metadata": {},
          "execution_count": 18
        }
      ]
    },
    {
      "cell_type": "markdown",
      "source": [
        "you try!"
      ],
      "metadata": {
        "id": "SFA_B14YFNdx"
      }
    },
    {
      "cell_type": "code",
      "source": [
        "# get the first 3 characters of your name"
      ],
      "metadata": {
        "id": "iJD3A40zFO9k"
      },
      "execution_count": null,
      "outputs": []
    },
    {
      "cell_type": "code",
      "source": [
        "# get the 3rd to the last character of your name"
      ],
      "metadata": {
        "id": "PBVvlIOeFVLb"
      },
      "execution_count": null,
      "outputs": []
    },
    {
      "cell_type": "markdown",
      "source": [
        "#### combining numbers and strings\n",
        "\n",
        "f string syntax and variables within strings."
      ],
      "metadata": {
        "id": "RCb1zdQ22NOo"
      }
    },
    {
      "cell_type": "code",
      "source": [
        "month = \"August\"\n",
        "day = 15\n",
        "\n",
        "f'today is {month} {day}th'"
      ],
      "metadata": {
        "colab": {
          "base_uri": "https://localhost:8080/",
          "height": 35
        },
        "id": "EInyNfYi2DzE",
        "outputId": "b6d6fa33-5480-493a-b76c-ccc03e820bd3"
      },
      "execution_count": null,
      "outputs": [
        {
          "output_type": "execute_result",
          "data": {
            "text/plain": [
              "'today is August 15th'"
            ],
            "application/vnd.google.colaboratory.intrinsic+json": {
              "type": "string"
            }
          },
          "metadata": {},
          "execution_count": 21
        }
      ]
    },
    {
      "cell_type": "markdown",
      "source": [
        "You try\n",
        "\n",
        "print the following text. \"My first name is Matthew and my last name is Pecsok\" where your first and last name are variables instead of hardcoded string literals."
      ],
      "metadata": {
        "id": "VEmxNWwhNs2i"
      }
    },
    {
      "cell_type": "code",
      "source": [
        "# your_first_name =\n",
        "# your_last_name =\n",
        "\n",
        "f'My first name is  and my last name is '"
      ],
      "metadata": {
        "colab": {
          "base_uri": "https://localhost:8080/",
          "height": 35
        },
        "id": "QT3dDzxjN_xB",
        "outputId": "45a28e39-01ae-4e7b-a0e1-00d7d636e7c0"
      },
      "execution_count": null,
      "outputs": [
        {
          "output_type": "execute_result",
          "data": {
            "text/plain": [
              "'My first name is  and my last name is '"
            ],
            "application/vnd.google.colaboratory.intrinsic+json": {
              "type": "string"
            }
          },
          "metadata": {},
          "execution_count": 33
        }
      ]
    },
    {
      "cell_type": "markdown",
      "source": [
        "#### substring check\n",
        "\n",
        "does the string contain a substring."
      ],
      "metadata": {
        "id": "IkZoQabd0MAA"
      }
    },
    {
      "cell_type": "code",
      "source": [
        "\"Matt\" in first_name"
      ],
      "metadata": {
        "colab": {
          "base_uri": "https://localhost:8080/"
        },
        "id": "adKuw-3Yz6Lz",
        "outputId": "a0410ae5-6d96-4abc-95ce-f17c0f68bcc3"
      },
      "execution_count": null,
      "outputs": [
        {
          "output_type": "execute_result",
          "data": {
            "text/plain": [
              "True"
            ]
          },
          "metadata": {},
          "execution_count": 9
        }
      ]
    },
    {
      "cell_type": "code",
      "source": [
        "# you try. check if Cat is in Catherine"
      ],
      "metadata": {
        "colab": {
          "base_uri": "https://localhost:8080/"
        },
        "id": "J9MocqFT0cYw",
        "outputId": "a2e500c7-cae5-4842-8575-f3cff5ba3ae8"
      },
      "execution_count": null,
      "outputs": [
        {
          "output_type": "execute_result",
          "data": {
            "text/plain": [
              "False"
            ]
          },
          "metadata": {},
          "execution_count": 12
        }
      ]
    },
    {
      "cell_type": "markdown",
      "source": [
        "### int"
      ],
      "metadata": {
        "id": "GfAPimsRRK5D"
      }
    },
    {
      "cell_type": "code",
      "source": [
        "my_number = 42\n",
        "\n",
        "my_number"
      ],
      "metadata": {
        "colab": {
          "base_uri": "https://localhost:8080/"
        },
        "id": "uG6NMDpcFySV",
        "outputId": "e116e459-bd02-4815-b720-d7eec091eb17"
      },
      "execution_count": null,
      "outputs": [
        {
          "output_type": "execute_result",
          "data": {
            "text/plain": [
              "42"
            ]
          },
          "metadata": {},
          "execution_count": 54
        }
      ]
    },
    {
      "cell_type": "code",
      "source": [
        "type(my_number)"
      ],
      "metadata": {
        "colab": {
          "base_uri": "https://localhost:8080/"
        },
        "id": "CMNLqhmvGmUG",
        "outputId": "30696c2f-a0af-4334-db7d-9311bc950219"
      },
      "execution_count": null,
      "outputs": [
        {
          "output_type": "execute_result",
          "data": {
            "text/plain": [
              "int"
            ]
          },
          "metadata": {},
          "execution_count": 55
        }
      ]
    },
    {
      "cell_type": "markdown",
      "source": [
        "again we assigned an integer to the variable so the type of that variable is integer (int)"
      ],
      "metadata": {
        "id": "PaBj6-rfGp8F"
      }
    },
    {
      "cell_type": "markdown",
      "source": [
        "you try"
      ],
      "metadata": {
        "id": "5RcA1De4b04P"
      }
    },
    {
      "cell_type": "code",
      "source": [
        "# create an int variable and display it"
      ],
      "metadata": {
        "id": "BDxcHltabxM1"
      },
      "execution_count": null,
      "outputs": []
    },
    {
      "cell_type": "markdown",
      "source": [
        "### float"
      ],
      "metadata": {
        "id": "crP2XRnMRCL3"
      }
    },
    {
      "cell_type": "markdown",
      "source": [
        "floating points allow for quick computation, but for financial transactions in which exact precision is required may not be appropriate."
      ],
      "metadata": {
        "id": "MWCHRPmpIn9N"
      }
    },
    {
      "cell_type": "code",
      "source": [
        "my_float = 42.5\n",
        "\n",
        "type(my_float)"
      ],
      "metadata": {
        "colab": {
          "base_uri": "https://localhost:8080/"
        },
        "id": "Hh5q9dFzGoAP",
        "outputId": "f7b904b8-3dd9-470c-cd91-74ee1da4fbbb"
      },
      "execution_count": null,
      "outputs": [
        {
          "output_type": "execute_result",
          "data": {
            "text/plain": [
              "float"
            ]
          },
          "metadata": {},
          "execution_count": 56
        }
      ]
    },
    {
      "cell_type": "code",
      "source": [
        "42.5/1.39"
      ],
      "metadata": {
        "colab": {
          "base_uri": "https://localhost:8080/"
        },
        "id": "DoPAnMb0RQaG",
        "outputId": "0f5b46b3-e895-42a2-eac0-6ce04ae41df0"
      },
      "execution_count": null,
      "outputs": [
        {
          "output_type": "execute_result",
          "data": {
            "text/plain": [
              "30.575539568345327"
            ]
          },
          "metadata": {},
          "execution_count": 57
        }
      ]
    },
    {
      "cell_type": "markdown",
      "source": [
        "create your own float variable"
      ],
      "metadata": {
        "id": "NsaA6JcTIPOd"
      }
    },
    {
      "cell_type": "code",
      "source": [
        " # create a float"
      ],
      "metadata": {
        "id": "zmKFoLf1IlDj"
      },
      "execution_count": null,
      "outputs": []
    },
    {
      "cell_type": "markdown",
      "source": [
        "### Boolean"
      ],
      "metadata": {
        "id": "F87kFhTkQ7zM"
      }
    },
    {
      "cell_type": "markdown",
      "source": [
        "Boolean variables are either True or False. That may not sound very exciting, but True/False is a critical component in coding."
      ],
      "metadata": {
        "id": "lXJBK10ZH4q0"
      }
    },
    {
      "cell_type": "code",
      "source": [
        "my_bool = True\n",
        "\n",
        "type(my_bool)\n"
      ],
      "metadata": {
        "colab": {
          "base_uri": "https://localhost:8080/"
        },
        "id": "KLjiMMvhHU7W",
        "outputId": "4c7e3471-75d1-40a0-f01f-5d5f64f8349b"
      },
      "execution_count": null,
      "outputs": [
        {
          "output_type": "execute_result",
          "data": {
            "text/plain": [
              "bool"
            ]
          },
          "metadata": {},
          "execution_count": 58
        }
      ]
    },
    {
      "cell_type": "markdown",
      "source": [
        "often boolean variables are created with Conditions. we can create a condition by doing a test"
      ],
      "metadata": {
        "id": "VNRFruIALEFQ"
      }
    },
    {
      "cell_type": "markdown",
      "source": [
        "### operators\n",
        "\n",
        "== is the equality operator.\n"
      ],
      "metadata": {
        "id": "VIX6ZhZsoFX7"
      }
    },
    {
      "cell_type": "code",
      "source": [
        "4 == 2 # equality operator"
      ],
      "metadata": {
        "colab": {
          "base_uri": "https://localhost:8080/"
        },
        "id": "oUlVHefrR8N0",
        "outputId": "afd83953-c224-4dd7-993b-ce7e14bd0771"
      },
      "execution_count": null,
      "outputs": [
        {
          "output_type": "execute_result",
          "data": {
            "text/plain": [
              "False"
            ]
          },
          "metadata": {},
          "execution_count": 59
        }
      ]
    },
    {
      "cell_type": "code",
      "source": [
        "4 != 2 # inequality operator"
      ],
      "metadata": {
        "colab": {
          "base_uri": "https://localhost:8080/"
        },
        "id": "cOi_l672Ujuw",
        "outputId": "b5331dad-f118-4b4d-cc6a-573e274a61ac"
      },
      "execution_count": null,
      "outputs": [
        {
          "output_type": "execute_result",
          "data": {
            "text/plain": [
              "True"
            ]
          },
          "metadata": {},
          "execution_count": 60
        }
      ]
    },
    {
      "cell_type": "code",
      "source": [
        "5 < 3 # less than operator"
      ],
      "metadata": {
        "colab": {
          "base_uri": "https://localhost:8080/"
        },
        "id": "aQF4lDq8H8ka",
        "outputId": "c7b449ca-d2a5-42fe-b29d-84fb6fa70588"
      },
      "execution_count": null,
      "outputs": [
        {
          "output_type": "execute_result",
          "data": {
            "text/plain": [
              "False"
            ]
          },
          "metadata": {},
          "execution_count": 61
        }
      ]
    },
    {
      "cell_type": "code",
      "source": [
        "five_lt_three = 5 < 3\n",
        "\n",
        "five_lt_three"
      ],
      "metadata": {
        "colab": {
          "base_uri": "https://localhost:8080/"
        },
        "id": "sTsNaDR3LLyl",
        "outputId": "295f0e3f-12cc-4677-b017-8c4b63717f61"
      },
      "execution_count": null,
      "outputs": [
        {
          "output_type": "execute_result",
          "data": {
            "text/plain": [
              "False"
            ]
          },
          "metadata": {},
          "execution_count": 62
        }
      ]
    },
    {
      "cell_type": "markdown",
      "source": [
        "You try create a new variable that has a boolean value based on two numbers."
      ],
      "metadata": {
        "id": "xL8RD2SwRoPx"
      }
    },
    {
      "cell_type": "code",
      "source": [
        "# you put code here"
      ],
      "metadata": {
        "id": "88-J3-5zRuPN"
      },
      "execution_count": null,
      "outputs": []
    },
    {
      "cell_type": "markdown",
      "source": [
        "strings can also be tested for equality"
      ],
      "metadata": {
        "id": "4P8z0hZYRxnL"
      }
    },
    {
      "cell_type": "code",
      "source": [
        "\"matt\" == \"MATT\""
      ],
      "metadata": {
        "colab": {
          "base_uri": "https://localhost:8080/"
        },
        "id": "fizTz-EdLOZ7",
        "outputId": "030c76da-ff22-4465-e70c-d223afa7c4b7"
      },
      "execution_count": null,
      "outputs": [
        {
          "output_type": "execute_result",
          "data": {
            "text/plain": [
              "False"
            ]
          },
          "metadata": {},
          "execution_count": 22
        }
      ]
    },
    {
      "cell_type": "code",
      "source": [
        "lc_name = \"matt\"\n",
        "uc_name = \"MATT\"\n",
        "\n",
        "lc_name == uc_name"
      ],
      "metadata": {
        "colab": {
          "base_uri": "https://localhost:8080/"
        },
        "id": "1bkbh5HXLh1d",
        "outputId": "a9b69212-0c41-4f4b-8dab-de732947c414"
      },
      "execution_count": null,
      "outputs": [
        {
          "output_type": "execute_result",
          "data": {
            "text/plain": [
              "False"
            ]
          },
          "metadata": {},
          "execution_count": 23
        }
      ]
    },
    {
      "cell_type": "code",
      "source": [
        "lc_name.upper() == uc_name"
      ],
      "metadata": {
        "colab": {
          "base_uri": "https://localhost:8080/"
        },
        "id": "DKLqMPnRLlQQ",
        "outputId": "91051bae-0103-44ef-e493-051050d2d588"
      },
      "execution_count": null,
      "outputs": [
        {
          "output_type": "execute_result",
          "data": {
            "text/plain": [
              "True"
            ]
          },
          "metadata": {},
          "execution_count": 27
        }
      ]
    },
    {
      "cell_type": "code",
      "source": [
        "lc_name.title()"
      ],
      "metadata": {
        "colab": {
          "base_uri": "https://localhost:8080/",
          "height": 35
        },
        "id": "0gNStm0RL7_X",
        "outputId": "0885aafb-f276-4e45-8081-e7c3ae0c6dcb"
      },
      "execution_count": null,
      "outputs": [
        {
          "output_type": "execute_result",
          "data": {
            "text/plain": [
              "'Matt'"
            ],
            "application/vnd.google.colaboratory.intrinsic+json": {
              "type": "string"
            }
          },
          "metadata": {},
          "execution_count": 29
        }
      ]
    },
    {
      "cell_type": "code",
      "source": [
        "name_one = \"Catherine\"\n",
        "name_two = \"CATHERINE\"\n",
        "\n",
        "# you try, get a true value when testing for equality of the two strings above"
      ],
      "metadata": {
        "id": "bQG9UHopMN78"
      },
      "execution_count": null,
      "outputs": []
    },
    {
      "cell_type": "markdown",
      "source": [
        "Booleans also have an integer equivalent.\n",
        "\n",
        "*   False = 0\n",
        "*   True = 1"
      ],
      "metadata": {
        "id": "8gb2G2mhMvkM"
      }
    },
    {
      "cell_type": "markdown",
      "source": [
        "effectively 0 + 0 + 1"
      ],
      "metadata": {
        "id": "sev85jbxM5Jc"
      }
    },
    {
      "cell_type": "code",
      "source": [
        "False+False+True"
      ],
      "metadata": {
        "colab": {
          "base_uri": "https://localhost:8080/"
        },
        "id": "KXYKhBNnMnX8",
        "outputId": "82ae6bee-eeb3-457d-e326-92ff0dfea6bc"
      },
      "execution_count": null,
      "outputs": [
        {
          "output_type": "execute_result",
          "data": {
            "text/plain": [
              "1"
            ]
          },
          "metadata": {},
          "execution_count": 66
        }
      ]
    },
    {
      "cell_type": "code",
      "source": [
        "\"\"\"\n",
        "\n",
        "\n",
        "\"\"\""
      ],
      "metadata": {
        "id": "8F4-ixG8RW8E"
      },
      "execution_count": null,
      "outputs": []
    },
    {
      "cell_type": "markdown",
      "source": [
        "# Project\n",
        "\n",
        "Use variables to output the following text in f-strings. Anything in bold is a variable, anything else is just text.\n",
        "\n",
        "\"It is **write code here** that 1 is equal to 1, and it is **write code here** that 16/4 = 3. That being said, it is **write code here** that my name contains the character 'c'. In addition, when I divide 42/1.5 the result is of type **your code here**\"\n"
      ],
      "metadata": {
        "id": "Qo4JKdV5QYPI"
      }
    },
    {
      "cell_type": "code",
      "source": [
        "# create some variables\n",
        "\n",
        "f\"It is **write code here** that 1 is equal to 1, and it is **write code here** that 16/4 = 3. That being said, it is **write code here** that my name contains the character 'c'. In addition, when I divide 42/1.5 the result is of type **your code here**\"\n"
      ],
      "metadata": {
        "colab": {
          "base_uri": "https://localhost:8080/",
          "height": 87
        },
        "id": "jpz1omgJRtT3",
        "outputId": "f70ecb1c-89e0-40e4-aa81-33b57f5a561d"
      },
      "execution_count": null,
      "outputs": [
        {
          "output_type": "execute_result",
          "data": {
            "text/plain": [
              "\"It is **write code here** that 1 is equal to 1, and it is **write code here** that 16/4 = 3. That being said, it is **write code here** that my name contains the character 'c'. In addition, when I divide 42/1.5 the result is of type **your code here**\""
            ],
            "application/vnd.google.colaboratory.intrinsic+json": {
              "type": "string"
            }
          },
          "metadata": {},
          "execution_count": 35
        }
      ]
    },
    {
      "cell_type": "markdown",
      "source": [
        "This is useful when we want to count the number of true instances. We simply sum them up. The total is the number of true instances."
      ],
      "metadata": {
        "id": "GKY89H0xM-Lt"
      }
    },
    {
      "cell_type": "code",
      "source": [
        "# create 4 boolean variables that when added give you the numeric result of 3"
      ],
      "metadata": {
        "id": "EaLTVFAXccUy"
      },
      "execution_count": null,
      "outputs": []
    },
    {
      "cell_type": "markdown",
      "source": [
        "## casting\n",
        "\n",
        "what if we have a string and we want to convert it to a number? or vice versa. we can use casting to convert between types"
      ],
      "metadata": {
        "id": "8io4Ea60x9I_"
      }
    },
    {
      "cell_type": "code",
      "source": [
        "my_string = \"42\"\n",
        "\n",
        "print(type(my_string))\n",
        "\n",
        "my_string = int(my_string)\n",
        "\n",
        "print(type(my_string))\n",
        "\n",
        "my_string"
      ],
      "metadata": {
        "colab": {
          "base_uri": "https://localhost:8080/"
        },
        "id": "1EqP5zqCyP_G",
        "outputId": "bf4022de-4fc1-4a2a-f1d4-2a3f415d9270"
      },
      "execution_count": null,
      "outputs": [
        {
          "output_type": "stream",
          "name": "stdout",
          "text": [
            "<class 'str'>\n",
            "<class 'int'>\n"
          ]
        },
        {
          "output_type": "execute_result",
          "data": {
            "text/plain": [
              "42"
            ]
          },
          "metadata": {},
          "execution_count": 3
        }
      ]
    },
    {
      "cell_type": "code",
      "source": [
        "my_float = 1.234\n",
        "\n",
        "print(type(my_float))\n",
        "\n",
        "my_float = int(my_float)\n",
        "\n",
        "print(type(my_float))\n",
        "\n",
        "my_float"
      ],
      "metadata": {
        "colab": {
          "base_uri": "https://localhost:8080/"
        },
        "id": "7fryAjWeylV_",
        "outputId": "11db182e-badc-42cf-fcf2-a3a0d15c126b"
      },
      "execution_count": null,
      "outputs": [
        {
          "output_type": "stream",
          "name": "stdout",
          "text": [
            "<class 'float'>\n",
            "<class 'int'>\n"
          ]
        },
        {
          "output_type": "execute_result",
          "data": {
            "text/plain": [
              "1"
            ]
          },
          "metadata": {},
          "execution_count": 4
        }
      ]
    },
    {
      "cell_type": "markdown",
      "source": [
        "## precedence\n",
        "\n",
        "python follows common mathematics conventions\n",
        "\n",
        "PEMDAS\n",
        "\n",
        "* Parentheses\n",
        "* Exponents (Powers and Roots)\n",
        "* Multiplication and Division (from left to right)\n",
        "* Addition and Subtraction (from left to right)\n",
        "\n",
        "if we simply evaluated from left to right we might get the 2+3 = 5 and then 5 * 4 = 20. This is not how we would expect evaluation to work in math terms."
      ],
      "metadata": {
        "id": "MI0Be1jLNoaQ"
      }
    },
    {
      "cell_type": "code",
      "source": [
        "2 + 3 * 4"
      ],
      "metadata": {
        "colab": {
          "base_uri": "https://localhost:8080/"
        },
        "id": "HmywdqRnMqH5",
        "outputId": "232552bb-98e4-4772-fc31-ac6094a2cd4b"
      },
      "execution_count": null,
      "outputs": [
        {
          "output_type": "execute_result",
          "data": {
            "text/plain": [
              "14"
            ]
          },
          "metadata": {},
          "execution_count": 67
        }
      ]
    },
    {
      "cell_type": "code",
      "source": [
        "(2 + 3) * 4"
      ],
      "metadata": {
        "colab": {
          "base_uri": "https://localhost:8080/"
        },
        "id": "WXNdMaKlOmSh",
        "outputId": "1f73e92e-b708-4e4d-e70f-b34ebd8c1d92"
      },
      "execution_count": null,
      "outputs": [
        {
          "output_type": "execute_result",
          "data": {
            "text/plain": [
              "20"
            ]
          },
          "metadata": {},
          "execution_count": 68
        }
      ]
    },
    {
      "cell_type": "markdown",
      "source": [
        "you try\n",
        "\n",
        "subtract and divide numbers, then use parenthesis to change the order of operations"
      ],
      "metadata": {
        "id": "vUJYn3dLSsDC"
      }
    },
    {
      "cell_type": "code",
      "source": [
        "# you try here"
      ],
      "metadata": {
        "id": "XiYr17nIPnsN"
      },
      "execution_count": null,
      "outputs": []
    },
    {
      "cell_type": "code",
      "source": [
        "# and here"
      ],
      "metadata": {
        "id": "TkKP0IXLTKuJ"
      },
      "execution_count": null,
      "outputs": []
    },
    {
      "cell_type": "markdown",
      "source": [
        "# Conditions\n",
        "\n",
        "we can combine operators with conditions to create logical sequences in code\n",
        "\n",
        "if statements evaluate to true or false (boolean). If true, else false.\n",
        "\n",
        "two spaces before the code within the if else\n"
      ],
      "metadata": {
        "id": "mKXJrigvVHVV"
      }
    },
    {
      "cell_type": "markdown",
      "source": [
        "### if/else statements"
      ],
      "metadata": {
        "id": "GOwCsAibk7WW"
      }
    },
    {
      "cell_type": "code",
      "source": [
        "if (True):\n",
        "  print(\"It's true\")"
      ],
      "metadata": {
        "colab": {
          "base_uri": "https://localhost:8080/"
        },
        "id": "lVDeTdx1Vktz",
        "outputId": "40de6f5a-10f0-4709-8ead-8420cb6b4c14"
      },
      "execution_count": null,
      "outputs": [
        {
          "output_type": "stream",
          "name": "stdout",
          "text": [
            "It's true\n"
          ]
        }
      ]
    },
    {
      "cell_type": "code",
      "source": [
        "if (4 < 2):\n",
        "  print(\"True:\",\"4 is less than 2\")\n",
        "else:\n",
        "  print(\"False:\",\"4 is greater than or equal to 2\")\n"
      ],
      "metadata": {
        "colab": {
          "base_uri": "https://localhost:8080/"
        },
        "id": "zB-haUkaTMP7",
        "outputId": "7f6487be-ff32-4a59-ed72-1d7a998d7ddb"
      },
      "execution_count": null,
      "outputs": [
        {
          "output_type": "stream",
          "name": "stdout",
          "text": [
            "False: 4 is greater than or equal to 2\n"
          ]
        }
      ]
    },
    {
      "cell_type": "code",
      "source": [
        "my_name"
      ],
      "metadata": {
        "colab": {
          "base_uri": "https://localhost:8080/",
          "height": 36
        },
        "id": "lMHlrp-Pay3s",
        "outputId": "a8294a4f-9b51-4191-a981-12aa160362c4"
      },
      "execution_count": null,
      "outputs": [
        {
          "output_type": "execute_result",
          "data": {
            "text/plain": [
              "'Matt'"
            ],
            "application/vnd.google.colaboratory.intrinsic+json": {
              "type": "string"
            }
          },
          "metadata": {},
          "execution_count": 72
        }
      ]
    },
    {
      "cell_type": "code",
      "source": [
        "if (\"a\" in my_name):\n",
        "  print(\"True:\",\"'a' is in my_name\")\n",
        "else:\n",
        "  print(\"False:\",\"'a' is not in my_name\")\n"
      ],
      "metadata": {
        "colab": {
          "base_uri": "https://localhost:8080/"
        },
        "id": "MbeCEc1ZVkOM",
        "outputId": "ce1b8e64-02e6-4ab3-d03c-5407d6d138a5"
      },
      "execution_count": null,
      "outputs": [
        {
          "output_type": "stream",
          "name": "stdout",
          "text": [
            "True: 'a' is in my_name\n"
          ]
        }
      ]
    },
    {
      "cell_type": "markdown",
      "source": [
        "you try"
      ],
      "metadata": {
        "id": "bDyXYviudH1B"
      }
    },
    {
      "cell_type": "code",
      "source": [
        "# create an if/else statement that evaluates to either true or false and shows some result."
      ],
      "metadata": {
        "id": "XLrO7luIdJAq"
      },
      "execution_count": null,
      "outputs": []
    },
    {
      "cell_type": "code",
      "source": [
        "(5>4) and (4<3)"
      ],
      "metadata": {
        "colab": {
          "base_uri": "https://localhost:8080/"
        },
        "id": "8D3CjOEwiM3d",
        "outputId": "25822708-fdaf-423d-d112-299c4560f2ae"
      },
      "execution_count": null,
      "outputs": [
        {
          "output_type": "execute_result",
          "data": {
            "text/plain": [
              "False"
            ]
          },
          "metadata": {},
          "execution_count": 47
        }
      ]
    },
    {
      "cell_type": "code",
      "source": [
        "if (5>4) and (4<3):\n",
        "  print(\"True:\",\"5 is greater than 4 and 4 is less than 3\")\n",
        "else:\n",
        "  print(\"False:\",\"5 is not greater than 4 or 4 is not less than 3\")"
      ],
      "metadata": {
        "colab": {
          "base_uri": "https://localhost:8080/"
        },
        "id": "otee1S3Sgh5i",
        "outputId": "700de5d1-ca6b-426b-b8cd-b795aff3d3c1"
      },
      "execution_count": null,
      "outputs": [
        {
          "output_type": "stream",
          "name": "stdout",
          "text": [
            "False: 5 is not greater than 4 or 4 is not less than 3\n"
          ]
        }
      ]
    },
    {
      "cell_type": "code",
      "source": [
        "(5>4) or (4<3)"
      ],
      "metadata": {
        "colab": {
          "base_uri": "https://localhost:8080/"
        },
        "id": "i4kQbGFTiKqP",
        "outputId": "9fec1d5a-306f-48d4-c9ae-9fe5a5b575b6"
      },
      "execution_count": null,
      "outputs": [
        {
          "output_type": "execute_result",
          "data": {
            "text/plain": [
              "True"
            ]
          },
          "metadata": {},
          "execution_count": 46
        }
      ]
    },
    {
      "cell_type": "code",
      "source": [
        "if (5>4) or (4<3):\n",
        "  print(\"True:\",\"5 is greater than 4 or 4 is less than 3\")\n",
        "else:\n",
        "  print(\"False:\",\"5 is neither greater than 4 nor 4 is less than 3\")"
      ],
      "metadata": {
        "colab": {
          "base_uri": "https://localhost:8080/"
        },
        "id": "N2f9dzGqg0qm",
        "outputId": "24548c08-f2e3-434b-aea8-cc01964dbffc"
      },
      "execution_count": null,
      "outputs": [
        {
          "output_type": "stream",
          "name": "stdout",
          "text": [
            "True: 5 is greater than 4 or 4 is less than 3\n"
          ]
        }
      ]
    },
    {
      "cell_type": "code",
      "source": [
        "# You try. Is either of the folliwing true 40 > 20 or 20 > 10?"
      ],
      "metadata": {
        "id": "_f61GEG4SNVz"
      },
      "execution_count": null,
      "outputs": []
    },
    {
      "cell_type": "markdown",
      "source": [
        "# Data Structures"
      ],
      "metadata": {
        "id": "eqON-TqWqGaq"
      }
    },
    {
      "cell_type": "markdown",
      "source": [
        "## lists\n",
        "\n",
        "Suppose we have a list of numbers\n",
        "\n",
        "5,3,9,10"
      ],
      "metadata": {
        "id": "ANnsZpnfeGMT"
      }
    },
    {
      "cell_type": "code",
      "source": [
        "my_numbers = [10,5,3,9]\n",
        "\n",
        "my_numbers"
      ],
      "metadata": {
        "colab": {
          "base_uri": "https://localhost:8080/"
        },
        "id": "m4q2mD5QaxTu",
        "outputId": "b582360e-55fd-4cbe-9b02-8477a3f7d1fb"
      },
      "execution_count": null,
      "outputs": [
        {
          "output_type": "execute_result",
          "data": {
            "text/plain": [
              "[10, 5, 3, 9]"
            ]
          },
          "metadata": {},
          "execution_count": 74
        }
      ]
    },
    {
      "cell_type": "markdown",
      "source": [
        "### type"
      ],
      "metadata": {
        "id": "IY0AZDQ-zKVq"
      }
    },
    {
      "cell_type": "code",
      "source": [
        "type(my_numbers)"
      ],
      "metadata": {
        "colab": {
          "base_uri": "https://localhost:8080/"
        },
        "id": "-PxXEi8Lel2E",
        "outputId": "d35a5a2d-17a4-43f1-962e-d8fe42161811"
      },
      "execution_count": null,
      "outputs": [
        {
          "output_type": "execute_result",
          "data": {
            "text/plain": [
              "list"
            ]
          },
          "metadata": {},
          "execution_count": 75
        }
      ]
    },
    {
      "cell_type": "markdown",
      "source": [
        "### length"
      ],
      "metadata": {
        "id": "30_3yejUzI-U"
      }
    },
    {
      "cell_type": "code",
      "source": [
        "len(my_numbers)"
      ],
      "metadata": {
        "colab": {
          "base_uri": "https://localhost:8080/"
        },
        "id": "iDIA1U6CfxWl",
        "outputId": "3e90b23c-6032-4d8b-b1a9-356a74944056"
      },
      "execution_count": null,
      "outputs": [
        {
          "output_type": "execute_result",
          "data": {
            "text/plain": [
              "4"
            ]
          },
          "metadata": {},
          "execution_count": 76
        }
      ]
    },
    {
      "cell_type": "markdown",
      "source": [
        "### sum"
      ],
      "metadata": {
        "id": "OgwW7zaizMmf"
      }
    },
    {
      "cell_type": "code",
      "source": [
        "sum(my_numbers)"
      ],
      "metadata": {
        "colab": {
          "base_uri": "https://localhost:8080/"
        },
        "id": "GOG-szy-eUgD",
        "outputId": "8c8f9d43-1011-45c6-fb5d-dfceb130d3cc"
      },
      "execution_count": null,
      "outputs": [
        {
          "output_type": "execute_result",
          "data": {
            "text/plain": [
              "27"
            ]
          },
          "metadata": {},
          "execution_count": 77
        }
      ]
    },
    {
      "cell_type": "markdown",
      "source": [
        "lists are ordered, changeable, allows duplicates"
      ],
      "metadata": {
        "id": "SEb_tkLBgwq7"
      }
    },
    {
      "cell_type": "markdown",
      "source": [
        "### append\n",
        "\n",
        "append() is a method for lists.\n",
        "\n",
        "methods are functions that operate in the context of the object they are tied to.\n",
        "\n",
        "append takes an argument of the thing we want to append to the list."
      ],
      "metadata": {
        "id": "9cZ0s6ltMxq-"
      }
    },
    {
      "cell_type": "code",
      "source": [
        "my_numbers.append(50)\n",
        "my_numbers"
      ],
      "metadata": {
        "colab": {
          "base_uri": "https://localhost:8080/"
        },
        "id": "Gu-7iS5oeWWJ",
        "outputId": "78ccfa6e-2d01-4dd4-c822-c54cdf7ca332"
      },
      "execution_count": null,
      "outputs": [
        {
          "output_type": "execute_result",
          "data": {
            "text/plain": [
              "[10, 5, 3, 9, 50]"
            ]
          },
          "metadata": {},
          "execution_count": 78
        }
      ]
    },
    {
      "cell_type": "markdown",
      "source": [
        "first element"
      ],
      "metadata": {
        "id": "D8hPNECdie4f"
      }
    },
    {
      "cell_type": "code",
      "source": [
        "my_numbers[0]"
      ],
      "metadata": {
        "colab": {
          "base_uri": "https://localhost:8080/"
        },
        "id": "vijhOlSPiCMy",
        "outputId": "fc80bcd7-d50c-4b81-a964-c553f35ab816"
      },
      "execution_count": null,
      "outputs": [
        {
          "output_type": "execute_result",
          "data": {
            "text/plain": [
              "10"
            ]
          },
          "metadata": {},
          "execution_count": 79
        }
      ]
    },
    {
      "cell_type": "markdown",
      "source": [
        "last element"
      ],
      "metadata": {
        "id": "fhEbg3ckigko"
      }
    },
    {
      "cell_type": "code",
      "source": [
        "my_numbers[-1]"
      ],
      "metadata": {
        "colab": {
          "base_uri": "https://localhost:8080/"
        },
        "id": "gXIGOjDqiDiZ",
        "outputId": "fbb21e99-5d19-4f7b-f7b0-d95a632bf539"
      },
      "execution_count": null,
      "outputs": [
        {
          "output_type": "execute_result",
          "data": {
            "text/plain": [
              "50"
            ]
          },
          "metadata": {},
          "execution_count": 80
        }
      ]
    },
    {
      "cell_type": "markdown",
      "source": [
        "what other methods are available for lists?\n",
        "\n",
        "one option is to read up on documentation available on the internet such as:\n",
        "\n",
        "https://www.w3schools.com/python/python_ref_list.asp\n",
        "\n",
        "or, one co"
      ],
      "metadata": {
        "id": "oxqNNagbOIVO"
      }
    },
    {
      "cell_type": "code",
      "source": [
        "dir(my_numbers)"
      ],
      "metadata": {
        "id": "g6pIsOWMiL4r",
        "colab": {
          "base_uri": "https://localhost:8080/"
        },
        "outputId": "a5466ed1-80ad-45f5-85f6-88de0d0544ac"
      },
      "execution_count": null,
      "outputs": [
        {
          "output_type": "execute_result",
          "data": {
            "text/plain": [
              "['__add__',\n",
              " '__class__',\n",
              " '__class_getitem__',\n",
              " '__contains__',\n",
              " '__delattr__',\n",
              " '__delitem__',\n",
              " '__dir__',\n",
              " '__doc__',\n",
              " '__eq__',\n",
              " '__format__',\n",
              " '__ge__',\n",
              " '__getattribute__',\n",
              " '__getitem__',\n",
              " '__gt__',\n",
              " '__hash__',\n",
              " '__iadd__',\n",
              " '__imul__',\n",
              " '__init__',\n",
              " '__init_subclass__',\n",
              " '__iter__',\n",
              " '__le__',\n",
              " '__len__',\n",
              " '__lt__',\n",
              " '__mul__',\n",
              " '__ne__',\n",
              " '__new__',\n",
              " '__reduce__',\n",
              " '__reduce_ex__',\n",
              " '__repr__',\n",
              " '__reversed__',\n",
              " '__rmul__',\n",
              " '__setattr__',\n",
              " '__setitem__',\n",
              " '__sizeof__',\n",
              " '__str__',\n",
              " '__subclasshook__',\n",
              " 'append',\n",
              " 'clear',\n",
              " 'copy',\n",
              " 'count',\n",
              " 'extend',\n",
              " 'index',\n",
              " 'insert',\n",
              " 'pop',\n",
              " 'remove',\n",
              " 'reverse',\n",
              " 'sort']"
            ]
          },
          "metadata": {},
          "execution_count": 81
        }
      ]
    },
    {
      "cell_type": "markdown",
      "source": [
        "### help"
      ],
      "metadata": {
        "id": "v7XM41toVMx7"
      }
    },
    {
      "cell_type": "code",
      "source": [
        "help(my_numbers.append)"
      ],
      "metadata": {
        "colab": {
          "base_uri": "https://localhost:8080/"
        },
        "id": "K8KFgDFnOtPr",
        "outputId": "266e965f-f0f8-427b-b5e5-d824bf7d0295"
      },
      "execution_count": null,
      "outputs": [
        {
          "output_type": "stream",
          "name": "stdout",
          "text": [
            "Help on built-in function append:\n",
            "\n",
            "append(object, /) method of builtins.list instance\n",
            "    Append object to the end of the list.\n",
            "\n"
          ]
        }
      ]
    },
    {
      "cell_type": "code",
      "source": [
        "help(my_numbers.sort)"
      ],
      "metadata": {
        "colab": {
          "base_uri": "https://localhost:8080/"
        },
        "id": "6VXcF2sCPZgR",
        "outputId": "7a314b2c-e4b3-42c4-f641-fbdf50da8e9a"
      },
      "execution_count": null,
      "outputs": [
        {
          "output_type": "stream",
          "name": "stdout",
          "text": [
            "Help on built-in function sort:\n",
            "\n",
            "sort(*, key=None, reverse=False) method of builtins.list instance\n",
            "    Sort the list in ascending order and return None.\n",
            "    \n",
            "    The sort is in-place (i.e. the list itself is modified) and stable (i.e. the\n",
            "    order of two equal elements is maintained).\n",
            "    \n",
            "    If a key function is given, apply it once to each list item and sort them,\n",
            "    ascending or descending, according to their function values.\n",
            "    \n",
            "    The reverse flag can be set to sort in descending order.\n",
            "\n"
          ]
        }
      ]
    },
    {
      "cell_type": "markdown",
      "source": [
        "### sort"
      ],
      "metadata": {
        "id": "8FH38Z-NU9u-"
      }
    },
    {
      "cell_type": "code",
      "source": [
        "my_numbers.sort()\n",
        "my_numbers"
      ],
      "metadata": {
        "colab": {
          "base_uri": "https://localhost:8080/"
        },
        "id": "WNliFV0VP5c1",
        "outputId": "15c67575-a18a-4f34-f48d-d10ecbfdee83"
      },
      "execution_count": null,
      "outputs": [
        {
          "output_type": "execute_result",
          "data": {
            "text/plain": [
              "[3, 5, 9, 10, 50]"
            ]
          },
          "metadata": {},
          "execution_count": 89
        }
      ]
    },
    {
      "cell_type": "markdown",
      "source": [
        "### reverse"
      ],
      "metadata": {
        "id": "IgCYYh8UU4OA"
      }
    },
    {
      "cell_type": "code",
      "source": [
        "my_numbers.reverse()\n",
        "my_numbers"
      ],
      "metadata": {
        "colab": {
          "base_uri": "https://localhost:8080/"
        },
        "id": "CFIVx84FRgRN",
        "outputId": "06a6af82-75f1-465b-c78f-ccd49d315263"
      },
      "execution_count": null,
      "outputs": [
        {
          "output_type": "execute_result",
          "data": {
            "text/plain": [
              "[50, 10, 9, 5, 3]"
            ]
          },
          "metadata": {},
          "execution_count": 94
        }
      ]
    },
    {
      "cell_type": "markdown",
      "source": [
        "### sum"
      ],
      "metadata": {
        "id": "kgFv9ZwFU24y"
      }
    },
    {
      "cell_type": "code",
      "source": [
        "sum(my_numbers)"
      ],
      "metadata": {
        "colab": {
          "base_uri": "https://localhost:8080/"
        },
        "id": "RLyvLTfdRvYf",
        "outputId": "b7c2d3c4-11ac-4da9-9b5b-064955d4c81f"
      },
      "execution_count": null,
      "outputs": [
        {
          "output_type": "execute_result",
          "data": {
            "text/plain": [
              "77"
            ]
          },
          "metadata": {},
          "execution_count": 95
        }
      ]
    },
    {
      "cell_type": "markdown",
      "source": [
        "### index"
      ],
      "metadata": {
        "id": "WnjFw8paU1-D"
      }
    },
    {
      "cell_type": "code",
      "source": [
        "my_numbers.index(10)"
      ],
      "metadata": {
        "colab": {
          "base_uri": "https://localhost:8080/"
        },
        "id": "FnEiCrItT1rf",
        "outputId": "57d15d61-26ee-43c7-f5f4-4f46a0a07134"
      },
      "execution_count": null,
      "outputs": [
        {
          "output_type": "execute_result",
          "data": {
            "text/plain": [
              "1"
            ]
          },
          "metadata": {},
          "execution_count": 96
        }
      ]
    },
    {
      "cell_type": "markdown",
      "source": [
        "now you try"
      ],
      "metadata": {
        "id": "PILs_yXPUy2a"
      }
    },
    {
      "cell_type": "code",
      "source": [
        "# create a list of numbers"
      ],
      "metadata": {
        "id": "ZLG3CEaNUSpn"
      },
      "execution_count": null,
      "outputs": []
    },
    {
      "cell_type": "code",
      "source": [
        "# append a value to the list"
      ],
      "metadata": {
        "id": "rmDHt7hNVuNN"
      },
      "execution_count": null,
      "outputs": []
    },
    {
      "cell_type": "code",
      "source": [
        "# sort the list"
      ],
      "metadata": {
        "id": "U15-df6nVw00"
      },
      "execution_count": null,
      "outputs": []
    },
    {
      "cell_type": "code",
      "source": [
        "# reverse the list"
      ],
      "metadata": {
        "id": "FNs8gN5vVyW8"
      },
      "execution_count": null,
      "outputs": []
    },
    {
      "cell_type": "code",
      "source": [
        "# sum the list"
      ],
      "metadata": {
        "id": "h8MD1CRgVz75"
      },
      "execution_count": null,
      "outputs": []
    },
    {
      "cell_type": "code",
      "source": [
        "# get the index for a given element"
      ],
      "metadata": {
        "id": "XpYq90g3V3eO"
      },
      "execution_count": null,
      "outputs": []
    },
    {
      "cell_type": "markdown",
      "source": [
        "### combining lists"
      ],
      "metadata": {
        "id": "T__Ck9psGrIL"
      }
    },
    {
      "cell_type": "code",
      "source": [
        "list_one = [1,2,3,4,5]\n",
        "list_two = [6,7,8,9,10]\n",
        "\n",
        "new_list = list_one + list_two\n",
        "\n",
        "new_list\n"
      ],
      "metadata": {
        "colab": {
          "base_uri": "https://localhost:8080/"
        },
        "id": "2GpqmVZ7FQbQ",
        "outputId": "ebea19f5-1997-45f5-9e05-9dcb7551dc3e"
      },
      "execution_count": null,
      "outputs": [
        {
          "output_type": "execute_result",
          "data": {
            "text/plain": [
              "[1, 2, 3, 4, 5, 6, 7, 8, 9, 10]"
            ]
          },
          "metadata": {},
          "execution_count": 6
        }
      ]
    },
    {
      "cell_type": "code",
      "source": [
        "new_list"
      ],
      "metadata": {
        "colab": {
          "base_uri": "https://localhost:8080/"
        },
        "id": "hxQ9BItLGAti",
        "outputId": "15b94c90-1c38-4415-e880-cc4d2b315137"
      },
      "execution_count": null,
      "outputs": [
        {
          "output_type": "execute_result",
          "data": {
            "text/plain": [
              "[1, 2, 3, 4, 5, 6, 7, 8, 9, 10]"
            ]
          },
          "metadata": {},
          "execution_count": 11
        }
      ]
    },
    {
      "cell_type": "code",
      "source": [
        "# create two lists and join them"
      ],
      "metadata": {
        "id": "HuI3TRhfGOSr"
      },
      "execution_count": null,
      "outputs": []
    },
    {
      "cell_type": "markdown",
      "source": [
        "### copy lists"
      ],
      "metadata": {
        "id": "WBve2Dj-Hgdt"
      }
    },
    {
      "cell_type": "markdown",
      "source": [
        "notice how in the following example after copying the list and updatating the copy, the original list is updated also.\n",
        "\n",
        "This is a concept in programming known as a reference to an object. The new list is new in name only. the actual values are shared between lists."
      ],
      "metadata": {
        "id": "HThBGXrbIF8M"
      }
    },
    {
      "cell_type": "code",
      "source": [
        "names_list = ['Selena','Jose','John','Hannah']\n",
        "\n",
        "new_names_list = names_list # shallow copy\n",
        "\n",
        "new_names_list[0] = 'Matt'\n",
        "\n",
        "print(names_list)\n",
        "print(new_names_list)\n",
        "\n"
      ],
      "metadata": {
        "colab": {
          "base_uri": "https://localhost:8080/"
        },
        "id": "saQsRC0nGaE1",
        "outputId": "e123694a-00bf-4c85-ea9e-7f75e118a2f5"
      },
      "execution_count": null,
      "outputs": [
        {
          "output_type": "stream",
          "name": "stdout",
          "text": [
            "['Matt', 'Jose', 'John', 'Hannah']\n",
            "['Matt', 'Jose', 'John', 'Hannah']\n"
          ]
        }
      ]
    },
    {
      "cell_type": "code",
      "source": [
        "import copy\n",
        "\n",
        "names_list = ['Selena','Jose','John','Hannah']\n",
        "\n",
        "new_names_list = copy.deepcopy(names_list) # deep copy\n",
        "\n",
        "new_names_list[0] = 'Matt'\n",
        "\n",
        "print(names_list)\n",
        "print(new_names_list)\n"
      ],
      "metadata": {
        "colab": {
          "base_uri": "https://localhost:8080/"
        },
        "id": "IQ8Orct9JLd8",
        "outputId": "a2d9821a-9919-430a-a0cf-3aa0d10370ec"
      },
      "execution_count": null,
      "outputs": [
        {
          "output_type": "stream",
          "name": "stdout",
          "text": [
            "['Selena', 'Jose', 'John', 'Hannah']\n",
            "['Matt', 'Jose', 'John', 'Hannah']\n"
          ]
        }
      ]
    },
    {
      "cell_type": "code",
      "source": [
        "# you try, access the second element in new names list"
      ],
      "metadata": {
        "id": "Nt-0lFJeLQGf"
      },
      "execution_count": null,
      "outputs": []
    },
    {
      "cell_type": "markdown",
      "source": [
        "### pop\n",
        "\n",
        "remove an element from the list."
      ],
      "metadata": {
        "id": "BTLJvEbqNuAc"
      }
    },
    {
      "cell_type": "code",
      "source": [
        "new_names_list[3]"
      ],
      "metadata": {
        "colab": {
          "base_uri": "https://localhost:8080/",
          "height": 36
        },
        "id": "YKWbMikZOeKY",
        "outputId": "db2eb8a6-b522-4ff6-b84f-6ffd204426d6"
      },
      "execution_count": null,
      "outputs": [
        {
          "output_type": "execute_result",
          "data": {
            "text/plain": [
              "'Hannah'"
            ],
            "application/vnd.google.colaboratory.intrinsic+json": {
              "type": "string"
            }
          },
          "metadata": {},
          "execution_count": 21
        }
      ]
    },
    {
      "cell_type": "code",
      "source": [
        "new_names_list.pop(3)\n",
        "new_names_list"
      ],
      "metadata": {
        "colab": {
          "base_uri": "https://localhost:8080/"
        },
        "id": "zmsZM501NfqE",
        "outputId": "63d48ed5-b388-42b8-9e2e-2a2736bbdd9e"
      },
      "execution_count": null,
      "outputs": [
        {
          "output_type": "execute_result",
          "data": {
            "text/plain": [
              "['Matt', 'Jose', 'John']"
            ]
          },
          "metadata": {},
          "execution_count": 22
        }
      ]
    },
    {
      "cell_type": "code",
      "source": [
        "# you try. pop an element from the list."
      ],
      "metadata": {
        "id": "tjKnTMhjNxS4"
      },
      "execution_count": null,
      "outputs": []
    },
    {
      "cell_type": "markdown",
      "source": [
        "## slicing\n",
        "\n",
        "and dicing!\n",
        "\n"
      ],
      "metadata": {
        "id": "0Huq8fR1SUmU"
      }
    },
    {
      "cell_type": "code",
      "source": [
        "original_list = [0, 1, 2, 3, 4, 5, 6, 7, 8, 9]"
      ],
      "metadata": {
        "id": "dEBulowlQNMm"
      },
      "execution_count": null,
      "outputs": []
    },
    {
      "cell_type": "markdown",
      "source": [
        "Extract elements from index 2 to 5 (exclusive)"
      ],
      "metadata": {
        "id": "CtXEUZmAQThB"
      }
    },
    {
      "cell_type": "code",
      "source": [
        "original_list[2:5]"
      ],
      "metadata": {
        "colab": {
          "base_uri": "https://localhost:8080/"
        },
        "id": "rxmLyR5_QO7X",
        "outputId": "9bb28082-3bf4-40bf-c740-217b4e1d0b19"
      },
      "execution_count": null,
      "outputs": [
        {
          "output_type": "execute_result",
          "data": {
            "text/plain": [
              "[2, 3, 4]"
            ]
          },
          "metadata": {},
          "execution_count": 25
        }
      ]
    },
    {
      "cell_type": "markdown",
      "source": [
        "First element to last (excludes index 0)"
      ],
      "metadata": {
        "id": "loNU-Y62QvOK"
      }
    },
    {
      "cell_type": "code",
      "source": [
        "original_list[1:]"
      ],
      "metadata": {
        "colab": {
          "base_uri": "https://localhost:8080/"
        },
        "id": "VxIFlWZ8Qqi4",
        "outputId": "4d35f49a-943a-4ee8-e6ad-a319846d5ca0"
      },
      "execution_count": null,
      "outputs": [
        {
          "output_type": "execute_result",
          "data": {
            "text/plain": [
              "[1, 2, 3, 4, 5, 6, 7, 8, 9]"
            ]
          },
          "metadata": {},
          "execution_count": 26
        }
      ]
    },
    {
      "cell_type": "markdown",
      "source": [
        "every 3 elements"
      ],
      "metadata": {
        "id": "nWBilJblQ-l7"
      }
    },
    {
      "cell_type": "code",
      "source": [
        "original_list[::3]"
      ],
      "metadata": {
        "colab": {
          "base_uri": "https://localhost:8080/"
        },
        "id": "y6nKlLSHQ3jw",
        "outputId": "2f46c83d-59a3-48d1-b193-b5f26080fb8c"
      },
      "execution_count": null,
      "outputs": [
        {
          "output_type": "execute_result",
          "data": {
            "text/plain": [
              "[0, 3, 6, 9]"
            ]
          },
          "metadata": {},
          "execution_count": 28
        }
      ]
    },
    {
      "cell_type": "markdown",
      "source": [
        "reverse the list"
      ],
      "metadata": {
        "id": "GKdtdBpgRIPk"
      }
    },
    {
      "cell_type": "code",
      "source": [
        "original_list[::-1]"
      ],
      "metadata": {
        "colab": {
          "base_uri": "https://localhost:8080/"
        },
        "id": "BwFEDyUqPgx3",
        "outputId": "3e074026-8f36-47f7-874e-aee5dd56ecda"
      },
      "execution_count": null,
      "outputs": [
        {
          "output_type": "execute_result",
          "data": {
            "text/plain": [
              "[9, 8, 7, 6, 5, 4, 3, 2, 1, 0]"
            ]
          },
          "metadata": {},
          "execution_count": 29
        }
      ]
    },
    {
      "cell_type": "markdown",
      "source": [
        "you try"
      ],
      "metadata": {
        "id": "cP24SLkvRzOJ"
      }
    },
    {
      "cell_type": "code",
      "source": [
        "# [\"a\",\"b\",\"c\"] # reverse this list"
      ],
      "metadata": {
        "id": "1zEUPLB5RV_G"
      },
      "execution_count": null,
      "outputs": []
    },
    {
      "cell_type": "markdown",
      "source": [
        "## loops\n",
        "\n",
        "loops are an extremely powerful technique in programming. write code once, have it execute and abritrary number of times\n",
        "\n",
        "for loops use the same syntax of indentation to define code within the block."
      ],
      "metadata": {
        "id": "oCaf5iU7TNoY"
      }
    },
    {
      "cell_type": "code",
      "source": [
        "for i in range(10):\n",
        "    print(i)\n",
        "\n",
        "print('the end')"
      ],
      "metadata": {
        "colab": {
          "base_uri": "https://localhost:8080/"
        },
        "id": "B7yok4FuSehX",
        "outputId": "3abbd7ce-b9a8-42da-cc64-76b91f1a8323"
      },
      "execution_count": null,
      "outputs": [
        {
          "output_type": "stream",
          "name": "stdout",
          "text": [
            "0\n",
            "1\n",
            "2\n",
            "3\n",
            "4\n",
            "5\n",
            "6\n",
            "7\n",
            "8\n",
            "9\n",
            "the end\n"
          ]
        }
      ]
    },
    {
      "cell_type": "code",
      "source": [
        "for i in range(10):\n",
        "    print(f\"the result is {i + 99}\")\n"
      ],
      "metadata": {
        "colab": {
          "base_uri": "https://localhost:8080/"
        },
        "id": "BohUlR7IT7-D",
        "outputId": "1ecfd47d-c172-43b7-a79c-e778d295868d"
      },
      "execution_count": null,
      "outputs": [
        {
          "output_type": "stream",
          "name": "stdout",
          "text": [
            "the result is 99\n",
            "the result is 100\n",
            "the result is 101\n",
            "the result is 102\n",
            "the result is 103\n",
            "the result is 104\n",
            "the result is 105\n",
            "the result is 106\n",
            "the result is 107\n",
            "the result is 108\n"
          ]
        }
      ]
    },
    {
      "cell_type": "markdown",
      "source": [
        "you try\n",
        "\n",
        "write code to print the following from a list.\n",
        "\n",
        "hello Selena!\n",
        "\n",
        "hello Jose!\n",
        "\n",
        "hello John!\n",
        "\n",
        "hello Hannah!"
      ],
      "metadata": {
        "id": "a7r4kZu2Ux3N"
      }
    },
    {
      "cell_type": "code",
      "source": [
        "#for name in names_list:\n",
        "\n"
      ],
      "metadata": {
        "colab": {
          "base_uri": "https://localhost:8080/"
        },
        "id": "TIuLfzP2UBDy",
        "outputId": "c8585ac5-2f4d-4f44-a4ba-cf5dedf15ddd"
      },
      "execution_count": null,
      "outputs": [
        {
          "output_type": "stream",
          "name": "stdout",
          "text": [
            "hello Selena!\n",
            "hello Jose!\n",
            "hello John!\n",
            "hello Hannah!\n"
          ]
        }
      ]
    },
    {
      "cell_type": "markdown",
      "source": [
        "## Dictionaries\n",
        "\n",
        "Can store more complex data than int or string.\n",
        "\n",
        "Stores data as key value pairs.\n",
        "\n",
        "For example first_name is a key and the value is John"
      ],
      "metadata": {
        "id": "440tQ7zlC_LX"
      }
    },
    {
      "cell_type": "code",
      "source": [
        "student = {\n",
        "    \"first_name\": \"John\",\n",
        "    \"last_name\": \"Doe\",\n",
        "    \"age\": 18,\n",
        "    \"grade\": 12,\n",
        "    \"courses\": [\"Math\", \"Science\", \"History\"],\n",
        "    \"gpa\": 3.8\n",
        "}\n",
        "\n",
        "print(type(student['first_name']))\n",
        "print(type(student['last_name']))\n",
        "print(type(student['age']))\n",
        "print(type(student['grade']))\n",
        "print(type(student['courses']))"
      ],
      "metadata": {
        "colab": {
          "base_uri": "https://localhost:8080/"
        },
        "id": "mOeB9PE87ChE",
        "outputId": "5f1d5832-96bd-407a-da73-178a704d0c02"
      },
      "execution_count": null,
      "outputs": [
        {
          "output_type": "stream",
          "name": "stdout",
          "text": [
            "<class 'str'>\n",
            "<class 'str'>\n",
            "<class 'int'>\n",
            "<class 'int'>\n",
            "<class 'list'>\n"
          ]
        }
      ]
    },
    {
      "cell_type": "markdown",
      "source": [
        "### print values"
      ],
      "metadata": {
        "id": "Hpfr44ZFMc0h"
      }
    },
    {
      "cell_type": "code",
      "source": [
        "print(\"Student's First Name:\", student[\"first_name\"])\n",
        "print(\"Student's Age:\", student[\"age\"])\n",
        "print(\"Courses:\", student[\"courses\"])\n"
      ],
      "metadata": {
        "colab": {
          "base_uri": "https://localhost:8080/"
        },
        "id": "hAUOxBloDf3t",
        "outputId": "e5229e92-554d-417c-a970-d9e91cc46cf2"
      },
      "execution_count": null,
      "outputs": [
        {
          "output_type": "stream",
          "name": "stdout",
          "text": [
            "Student's First Name: John\n",
            "Student's Age: 18\n",
            "Courses: ['Math', 'Science', 'History']\n"
          ]
        }
      ]
    },
    {
      "cell_type": "markdown",
      "source": [
        "### access keys"
      ],
      "metadata": {
        "id": "HMiV1tJGMe-P"
      }
    },
    {
      "cell_type": "code",
      "source": [
        "student.update({\"title\": 41})\n",
        "student\n"
      ],
      "metadata": {
        "colab": {
          "base_uri": "https://localhost:8080/",
          "height": 197
        },
        "id": "8-HwbqK_aSs9",
        "outputId": "f3d3b023-a63d-4831-e68e-7a254bdbe69b"
      },
      "execution_count": null,
      "outputs": [
        {
          "output_type": "error",
          "ename": "NameError",
          "evalue": "ignored",
          "traceback": [
            "\u001b[0;31m---------------------------------------------------------------------------\u001b[0m",
            "\u001b[0;31mNameError\u001b[0m                                 Traceback (most recent call last)",
            "\u001b[0;32m<ipython-input-15-b25f21144e9a>\u001b[0m in \u001b[0;36m<cell line: 1>\u001b[0;34m()\u001b[0m\n\u001b[0;32m----> 1\u001b[0;31m \u001b[0mstudent\u001b[0m\u001b[0;34m.\u001b[0m\u001b[0mupdate\u001b[0m\u001b[0;34m(\u001b[0m\u001b[0;34m{\u001b[0m\u001b[0;34m\"title\"\u001b[0m\u001b[0;34m:\u001b[0m \u001b[0;36m41\u001b[0m\u001b[0;34m}\u001b[0m\u001b[0;34m)\u001b[0m\u001b[0;34m\u001b[0m\u001b[0;34m\u001b[0m\u001b[0m\n\u001b[0m\u001b[1;32m      2\u001b[0m \u001b[0mstudent\u001b[0m\u001b[0;34m\u001b[0m\u001b[0;34m\u001b[0m\u001b[0m\n",
            "\u001b[0;31mNameError\u001b[0m: name 'student' is not defined"
          ]
        }
      ]
    },
    {
      "cell_type": "code",
      "source": [
        "student.keys()"
      ],
      "metadata": {
        "colab": {
          "base_uri": "https://localhost:8080/"
        },
        "id": "X1vVoxAHZVTE",
        "outputId": "4453e7c7-89c1-4780-8f99-9817431e2cee"
      },
      "execution_count": null,
      "outputs": [
        {
          "output_type": "execute_result",
          "data": {
            "text/plain": [
              "dict_keys(['first_name', 'last_name', 'age', 'grade', 'courses', 'gpa'])"
            ]
          },
          "metadata": {},
          "execution_count": 35
        }
      ]
    },
    {
      "cell_type": "code",
      "source": [
        "student.values()"
      ],
      "metadata": {
        "colab": {
          "base_uri": "https://localhost:8080/"
        },
        "id": "HmN7ZjoLZ4gn",
        "outputId": "3e9e6572-165b-4f3e-e198-0636c13005ee"
      },
      "execution_count": null,
      "outputs": [
        {
          "output_type": "execute_result",
          "data": {
            "text/plain": [
              "dict_values(['John', 'Doe', 25, 12, [{'course_name': 'Math', 'instructor': 'Mr. Smith', 'schedule': 'Monday and Wednesday, 10:00 AM - 11:30 AM', 'students_enrolled': 25}, {'course_name': 'Science', 'instructor': 'Ms. Johnson', 'schedule': 'Tuesday and Thursday, 2:00 PM - 3:30 PM', 'students_enrolled': 20}, {'course_name': 'History', 'instructor': 'Dr. Williams', 'schedule': 'Friday, 9:00 AM - 10:30 AM', 'students_enrolled': 30}], 3.8])"
            ]
          },
          "metadata": {},
          "execution_count": 36
        }
      ]
    },
    {
      "cell_type": "code",
      "source": [
        "student.items()"
      ],
      "metadata": {
        "colab": {
          "base_uri": "https://localhost:8080/"
        },
        "id": "kwKJecJLZ95R",
        "outputId": "06527d70-0b82-4e89-fdb2-76a73919b818"
      },
      "execution_count": null,
      "outputs": [
        {
          "output_type": "execute_result",
          "data": {
            "text/plain": [
              "dict_items([('first_name', 'John'), ('last_name', 'Doe'), ('age', 25), ('grade', 12), ('courses', [{'course_name': 'Math', 'instructor': 'Mr. Smith', 'schedule': 'Monday and Wednesday, 10:00 AM - 11:30 AM', 'students_enrolled': 25}, {'course_name': 'Science', 'instructor': 'Ms. Johnson', 'schedule': 'Tuesday and Thursday, 2:00 PM - 3:30 PM', 'students_enrolled': 20}, {'course_name': 'History', 'instructor': 'Dr. Williams', 'schedule': 'Friday, 9:00 AM - 10:30 AM', 'students_enrolled': 30}]), ('gpa', 3.8)])"
            ]
          },
          "metadata": {},
          "execution_count": 37
        }
      ]
    },
    {
      "cell_type": "code",
      "source": [
        "for key in student:\n",
        "    print(key)"
      ],
      "metadata": {
        "colab": {
          "base_uri": "https://localhost:8080/"
        },
        "id": "IQpXpEKbEnAP",
        "outputId": "0a57f71f-cd12-4bea-a9bd-59228e56e345"
      },
      "execution_count": null,
      "outputs": [
        {
          "output_type": "stream",
          "name": "stdout",
          "text": [
            "first_name\n",
            "last_name\n",
            "age\n",
            "grade\n",
            "courses\n",
            "gpa\n"
          ]
        }
      ]
    },
    {
      "cell_type": "markdown",
      "source": [
        "### update dictionary values"
      ],
      "metadata": {
        "id": "Qiwjn6jZMg02"
      }
    },
    {
      "cell_type": "code",
      "source": [
        "student['age'] = 25\n",
        "student\n"
      ],
      "metadata": {
        "colab": {
          "base_uri": "https://localhost:8080/"
        },
        "id": "9obuXFfVGK0Y",
        "outputId": "79844f39-2d25-4b97-e8ca-a1415f68b9dc"
      },
      "execution_count": null,
      "outputs": [
        {
          "output_type": "execute_result",
          "data": {
            "text/plain": [
              "{'first_name': 'John',\n",
              " 'last_name': 'Doe',\n",
              " 'age': 25,\n",
              " 'grade': 12,\n",
              " 'courses': ['Math', 'Science', 'History'],\n",
              " 'gpa': 3.8}"
            ]
          },
          "metadata": {},
          "execution_count": 28
        }
      ]
    },
    {
      "cell_type": "code",
      "source": [
        "student['courses'][2] = 'English'\n",
        "student\n"
      ],
      "metadata": {
        "colab": {
          "base_uri": "https://localhost:8080/"
        },
        "id": "OGH6LI8UIVZW",
        "outputId": "a3e84ee9-db66-4761-909c-1481f66f6cba"
      },
      "execution_count": null,
      "outputs": [
        {
          "output_type": "execute_result",
          "data": {
            "text/plain": [
              "{'first_name': 'John',\n",
              " 'last_name': 'Doe',\n",
              " 'age': 25,\n",
              " 'grade': 12,\n",
              " 'courses': ['Math', 'Science', 'English'],\n",
              " 'gpa': 3.8}"
            ]
          },
          "metadata": {},
          "execution_count": 29
        }
      ]
    },
    {
      "cell_type": "markdown",
      "source": [
        "### nested dictionaries"
      ],
      "metadata": {
        "id": "Z2RtZ_ddMlha"
      }
    },
    {
      "cell_type": "code",
      "source": [
        "student['courses'] = [\n",
        "\n",
        "{\n",
        "    \"course_name\": \"Math\",\n",
        "    \"instructor\": \"Mr. Smith\",\n",
        "    \"schedule\": \"Monday and Wednesday, 10:00 AM - 11:30 AM\",\n",
        "    \"students_enrolled\": 25\n",
        "},\n",
        "\n",
        " {\n",
        "    \"course_name\": \"Science\",\n",
        "    \"instructor\": \"Ms. Johnson\",\n",
        "    \"schedule\": \"Tuesday and Thursday, 2:00 PM - 3:30 PM\",\n",
        "    \"students_enrolled\": 20\n",
        "},\n",
        "{\n",
        "    \"course_name\": \"History\",\n",
        "    \"instructor\": \"Dr. Williams\",\n",
        "    \"schedule\": \"Friday, 9:00 AM - 10:30 AM\",\n",
        "    \"students_enrolled\": 30\n",
        "}]\n",
        "\n",
        "student"
      ],
      "metadata": {
        "colab": {
          "base_uri": "https://localhost:8080/"
        },
        "id": "NJDRnrV9Igho",
        "outputId": "caf6ad6f-2e6b-46a6-f310-57c35a799d5b"
      },
      "execution_count": null,
      "outputs": [
        {
          "output_type": "execute_result",
          "data": {
            "text/plain": [
              "{'first_name': 'John',\n",
              " 'last_name': 'Doe',\n",
              " 'age': 25,\n",
              " 'grade': 12,\n",
              " 'courses': [{'course_name': 'Math',\n",
              "   'instructor': 'Mr. Smith',\n",
              "   'schedule': 'Monday and Wednesday, 10:00 AM - 11:30 AM',\n",
              "   'students_enrolled': 25},\n",
              "  {'course_name': 'Science',\n",
              "   'instructor': 'Ms. Johnson',\n",
              "   'schedule': 'Tuesday and Thursday, 2:00 PM - 3:30 PM',\n",
              "   'students_enrolled': 20},\n",
              "  {'course_name': 'History',\n",
              "   'instructor': 'Dr. Williams',\n",
              "   'schedule': 'Friday, 9:00 AM - 10:30 AM',\n",
              "   'students_enrolled': 30}],\n",
              " 'gpa': 3.8}"
            ]
          },
          "metadata": {},
          "execution_count": 33
        }
      ]
    },
    {
      "cell_type": "markdown",
      "source": [
        "You try\n",
        "\n",
        "create a simple dictionary for a car\n",
        "\n",
        "keys are make,model,year,color"
      ],
      "metadata": {
        "id": "n2iLvMlhKMWL"
      }
    },
    {
      "cell_type": "code",
      "source": [
        "# car dictionary"
      ],
      "metadata": {
        "id": "_NbinVvsJnS5"
      },
      "execution_count": null,
      "outputs": []
    },
    {
      "cell_type": "code",
      "source": [
        "# print the model of the car"
      ],
      "metadata": {
        "id": "OGqtFgJMK7_Q"
      },
      "execution_count": null,
      "outputs": []
    },
    {
      "cell_type": "code",
      "source": [
        "# update the year of the car"
      ],
      "metadata": {
        "id": "lRnSZnj1K_Fk"
      },
      "execution_count": null,
      "outputs": []
    },
    {
      "cell_type": "markdown",
      "source": [
        "# Expressions\n",
        "\n",
        "In programming, an expression is a combination of values, variables, operators, and function calls that can be evaluated to produce a result. Expressions are fundamental building blocks used to perform calculations, manipulate data, and make decisions within a program. They can represent a wide range of operations, from simple arithmetic calculations to complex logical evaluations."
      ],
      "metadata": {
        "id": "3fOVBrqDlEYy"
      }
    },
    {
      "cell_type": "markdown",
      "source": [
        "# Functions\n",
        "\n",
        "when you need to execute the same line or lines of code multiple times you may consider using a function. a function allows you to store code in a name, and then call it many times.\n",
        "\n",
        "see the example below"
      ],
      "metadata": {
        "id": "38OU47NkZNY-"
      }
    },
    {
      "cell_type": "code",
      "source": [
        "def simple_function():\n",
        "  print('hi')\n",
        "\n",
        "simple_function()\n",
        "simple_function()"
      ],
      "metadata": {
        "colab": {
          "base_uri": "https://localhost:8080/"
        },
        "id": "cMSHWZUsX-np",
        "outputId": "efe7f86f-ae86-4da0-ae59-451c61706646"
      },
      "execution_count": null,
      "outputs": [
        {
          "output_type": "stream",
          "name": "stdout",
          "text": [
            "hi\n",
            "hi\n"
          ]
        }
      ]
    },
    {
      "cell_type": "code",
      "source": [
        "# you try, create a new function, have it print hello world!"
      ],
      "metadata": {
        "id": "v7jwK3lWaVlM"
      },
      "execution_count": null,
      "outputs": []
    },
    {
      "cell_type": "markdown",
      "source": [
        "but what if we want the function to be more dynamic?\n",
        "\n",
        "introducing function parameters"
      ],
      "metadata": {
        "id": "Nt6hGxt7ashi"
      }
    },
    {
      "cell_type": "code",
      "source": [
        "def add_two_numbers(num1, num2):\n",
        "  print(num1 + num2)\n",
        "\n",
        "add_two_numbers(1, 2)\n",
        "add_two_numbers(10, 5)"
      ],
      "metadata": {
        "colab": {
          "base_uri": "https://localhost:8080/"
        },
        "id": "HLvnwo28abpn",
        "outputId": "2812104b-919e-48bd-bd4d-26305f227f39"
      },
      "execution_count": null,
      "outputs": [
        {
          "output_type": "stream",
          "name": "stdout",
          "text": [
            "3\n",
            "15\n"
          ]
        }
      ]
    },
    {
      "cell_type": "markdown",
      "source": [
        "you try create a new function\n",
        "\n",
        "it takes a first_name and last_name as parameters and prints your name if you pass in your first and last name.\n",
        "\n"
      ],
      "metadata": {
        "id": "BIyKtln1bIgc"
      }
    },
    {
      "cell_type": "code",
      "source": [
        "# your function here"
      ],
      "metadata": {
        "id": "nnklmcSiaqld"
      },
      "execution_count": null,
      "outputs": []
    },
    {
      "cell_type": "markdown",
      "source": [
        "argument defaults"
      ],
      "metadata": {
        "id": "42qQ_FpPb7ub"
      }
    },
    {
      "cell_type": "code",
      "source": [
        "def add_two_numbers(num1=6, num2=5):\n",
        "  print(num1 + num2)\n",
        "\n",
        "add_two_numbers()\n",
        "\n",
        "add_two_numbers(num2=80)"
      ],
      "metadata": {
        "colab": {
          "base_uri": "https://localhost:8080/"
        },
        "id": "OqEd0XZEb-0Z",
        "outputId": "daaa214e-4f79-4578-9cad-da5d4b8fd826"
      },
      "execution_count": null,
      "outputs": [
        {
          "output_type": "stream",
          "name": "stdout",
          "text": [
            "11\n",
            "86\n"
          ]
        }
      ]
    },
    {
      "cell_type": "markdown",
      "source": [
        "passing arguments by position vs name/keyword"
      ],
      "metadata": {
        "id": "sVR77kircxyr"
      }
    },
    {
      "cell_type": "code",
      "source": [
        "def subtract_two_numbers(num1=6, num2=5):\n",
        "  print(num1 - num2)\n",
        "\n",
        "subtract_two_numbers()\n",
        "\n",
        "subtract_two_numbers(10,3) # 10 - 3 = 7\n",
        "\n",
        "subtract_two_numbers(num2 = 3,num1 = 10) # again 10 - 3 = 7"
      ],
      "metadata": {
        "colab": {
          "base_uri": "https://localhost:8080/"
        },
        "id": "OtCDjEj2cbHy",
        "outputId": "9b012757-ef5d-4b4e-e27a-aea40b6bd080"
      },
      "execution_count": null,
      "outputs": [
        {
          "output_type": "stream",
          "name": "stdout",
          "text": [
            "1\n",
            "7\n",
            "7\n"
          ]
        }
      ]
    },
    {
      "cell_type": "code",
      "source": [
        "# you do. call your name printing function again, change the order of the keywords"
      ],
      "metadata": {
        "id": "VbkYVTZGdj0p"
      },
      "execution_count": null,
      "outputs": []
    },
    {
      "cell_type": "code",
      "source": [
        "def say_hello(first_name):\n",
        "  return f\"hello {first_name}\"\n",
        "\n",
        "print(say_hello(\"Lisa\"))\n",
        "print(say_hello(\"Jose\"))\n"
      ],
      "metadata": {
        "colab": {
          "base_uri": "https://localhost:8080/"
        },
        "id": "K-DX7bq-gnf3",
        "outputId": "08b05335-c1a0-4a94-977b-37e7c3d827ac"
      },
      "execution_count": null,
      "outputs": [
        {
          "output_type": "stream",
          "name": "stdout",
          "text": [
            "hello Lisa\n",
            "hello Jose\n"
          ]
        }
      ]
    },
    {
      "cell_type": "code",
      "source": [
        "for name in names_list:\n",
        "  print(say_hello(name))\n"
      ],
      "metadata": {
        "colab": {
          "base_uri": "https://localhost:8080/"
        },
        "id": "jwozfHYph2db",
        "outputId": "232ed892-2fc9-4981-b9ee-569b1da3b2cd"
      },
      "execution_count": null,
      "outputs": [
        {
          "output_type": "stream",
          "name": "stdout",
          "text": [
            "hello Selena\n",
            "hello Jose\n",
            "hello John\n",
            "hello Hannah\n"
          ]
        }
      ]
    },
    {
      "cell_type": "markdown",
      "source": [
        "function with if statement in it."
      ],
      "metadata": {
        "id": "zQFR-9dymUd0"
      }
    },
    {
      "cell_type": "code",
      "source": [
        "def first_is_greater(number1, number2):\n",
        "  if number1 > number2:\n",
        "    return True\n",
        "  else:\n",
        "    return False\n",
        "\n",
        "result = first_is_greater(10, 5)\n",
        "print(result)\n",
        "\n",
        "result = first_is_greater(2, 50)\n",
        "print(result)\n"
      ],
      "metadata": {
        "colab": {
          "base_uri": "https://localhost:8080/"
        },
        "id": "be1O_uM7kYst",
        "outputId": "6e2d7825-b1ca-4ba6-a0b3-e128a650bf7e"
      },
      "execution_count": null,
      "outputs": [
        {
          "output_type": "stream",
          "name": "stdout",
          "text": [
            "True\n",
            "False\n"
          ]
        }
      ]
    },
    {
      "cell_type": "markdown",
      "source": [
        "you try\n",
        "\n",
        "* create a function that takes a name. if the name is equal to \"Jose\" print(\"It's Jose\") else print(It's NOT Jose\")\n",
        "\n",
        "* recall the equality operator is ==\n",
        "\n",
        "* run the code twice, once with the name Jose and once with another name."
      ],
      "metadata": {
        "id": "22AliiCVnKI1"
      }
    },
    {
      "cell_type": "code",
      "source": [
        "# your code here"
      ],
      "metadata": {
        "id": "N6UiCnESW6Oe"
      },
      "execution_count": null,
      "outputs": []
    },
    {
      "cell_type": "markdown",
      "source": [
        "### list comprehension"
      ],
      "metadata": {
        "id": "c93e9z_aj3l7"
      }
    },
    {
      "cell_type": "code",
      "source": [
        "hello_list = [say_hello(name) for name in names_list]\n",
        "hello_list"
      ],
      "metadata": {
        "colab": {
          "base_uri": "https://localhost:8080/"
        },
        "id": "skNYfjBViCgo",
        "outputId": "77af176f-88d5-47f1-8c70-47b147f05423"
      },
      "execution_count": null,
      "outputs": [
        {
          "output_type": "execute_result",
          "data": {
            "text/plain": [
              "['hello Selena', 'hello Jose', 'hello John', 'hello Hannah']"
            ]
          },
          "metadata": {},
          "execution_count": 64
        }
      ]
    },
    {
      "cell_type": "markdown",
      "source": [
        "zip\n",
        "\n",
        "take two iterables like lists and combine them element-wise into tuples.  "
      ],
      "metadata": {
        "id": "sAoa7Klp7WsL"
      }
    },
    {
      "cell_type": "code",
      "source": [
        "fruits = ['apples','bananas','oranges']\n",
        "fruit_quantities = [40,100,200]"
      ],
      "metadata": {
        "id": "c6RhbpWSxbzI"
      },
      "execution_count": null,
      "outputs": []
    },
    {
      "cell_type": "markdown",
      "source": [
        "visualize what zip is doing"
      ],
      "metadata": {
        "id": "aQa4PAQg8W8I"
      }
    },
    {
      "cell_type": "code",
      "source": [
        "list(zip(fruits, fruit_quantities))"
      ],
      "metadata": {
        "colab": {
          "base_uri": "https://localhost:8080/"
        },
        "id": "i4m7oSza7o3P",
        "outputId": "acb89284-8fd3-453a-d478-e725eba157ac"
      },
      "execution_count": null,
      "outputs": [
        {
          "output_type": "execute_result",
          "data": {
            "text/plain": [
              "[('apples', 40), ('bananas', 100), ('oranges', 200)]"
            ]
          },
          "metadata": {},
          "execution_count": 29
        }
      ]
    },
    {
      "cell_type": "code",
      "source": [
        "for fruit, fruit_quantity in zip(fruits, fruit_quantities):\n",
        "    print(f\"We have {fruit_quantity} {fruit}\")"
      ],
      "metadata": {
        "colab": {
          "base_uri": "https://localhost:8080/"
        },
        "id": "hPbzIgqs53AT",
        "outputId": "802b3fdd-7708-4b6e-e979-96ef4f87fa4a"
      },
      "execution_count": null,
      "outputs": [
        {
          "output_type": "stream",
          "name": "stdout",
          "text": [
            "We have 40 apples\n",
            "We have 100 bananas\n",
            "We have 200 oranges\n"
          ]
        }
      ]
    },
    {
      "cell_type": "markdown",
      "source": [
        "# Objects\n",
        "\n",
        "A brief intro to Object Oriented Programming"
      ],
      "metadata": {
        "id": "eBUfn6iHky9V"
      }
    },
    {
      "cell_type": "code",
      "source": [
        "class Car:\n",
        "    def __init__(self, make, model):\n",
        "        self.make = make\n",
        "        self.model = model\n",
        "\n",
        "    def horn(self):\n",
        "        return f\"beep beep\"\n",
        "\n",
        "    def display_info(self):\n",
        "        return f\"Make: {self.make}, Model: {self.model}\"\n",
        "\n",
        "car = Car(\"Toyota\",\"Rav4\")\n",
        "\n",
        "car.display_info()"
      ],
      "metadata": {
        "colab": {
          "base_uri": "https://localhost:8080/",
          "height": 36
        },
        "id": "mi2pK-a95S_n",
        "outputId": "fbf3ffee-693f-4623-816d-a0d44641baa7"
      },
      "execution_count": null,
      "outputs": [
        {
          "output_type": "execute_result",
          "data": {
            "text/plain": [
              "'Make: Toyota, Model: Rav4'"
            ],
            "application/vnd.google.colaboratory.intrinsic+json": {
              "type": "string"
            }
          },
          "metadata": {},
          "execution_count": 56
        }
      ]
    },
    {
      "cell_type": "markdown",
      "source": [
        "you try\n",
        "\n",
        "create a new instance of a car. give the car a make and model."
      ],
      "metadata": {
        "id": "qxmuip4E6eeg"
      }
    },
    {
      "cell_type": "code",
      "source": [
        "# new car instance"
      ],
      "metadata": {
        "id": "90uYmCw46eC1"
      },
      "execution_count": null,
      "outputs": []
    },
    {
      "cell_type": "markdown",
      "source": [
        "Next add a year property, create a new instance with make,model, year"
      ],
      "metadata": {
        "id": "qNKXpNt881gb"
      }
    },
    {
      "cell_type": "markdown",
      "source": [
        "## Inheritance and Polymorphism\n",
        "\n"
      ],
      "metadata": {
        "id": "YxIWyFVy7RBb"
      }
    },
    {
      "cell_type": "code",
      "source": [
        "class Vehicle():\n",
        "    def __init__(self, brand, model):\n",
        "        self.brand = brand\n",
        "        self.model = model\n",
        "\n",
        "    def display_info(self):\n",
        "        return f\"Brand: {self.brand}, Model: {self.model}\"\n",
        "\n",
        "\n",
        "class Car(Vehicle):\n",
        "    def __init__(self, brand, model, num_doors):\n",
        "        super().__init__(brand, model)\n",
        "        self.num_doors = num_doors\n",
        "\n",
        "    def display_info(self):\n",
        "        vehicle_info = super().display_info()\n",
        "        return f\"{vehicle_info}, Type: Car, Number of Doors: {self.num_doors}\"\n",
        "\n",
        "\n",
        "class Motorcycle(Vehicle):\n",
        "    def __init__(self, brand, model, num_wheels):\n",
        "        super().__init__(brand, model)\n",
        "        self.num_wheels = num_wheels\n",
        "\n",
        "    def display_info(self):\n",
        "        vehicle_info = super().display_info()\n",
        "        return f\"{vehicle_info}, Type: Motorcycle, Number of Wheels: {self.num_wheels}\"\n",
        "\n",
        "\n",
        "class Plane(Vehicle):\n",
        "    def __init__(self, brand, model, wingspan):\n",
        "        super().__init__(brand, model)\n",
        "        self.wingspan = wingspan\n",
        "\n",
        "    def display_info(self):\n",
        "        vehicle_info = super().display_info()\n",
        "        return f\"{vehicle_info}, Type: Plane, Wingspan: {self.wingspan}\"\n",
        "\n",
        "\n",
        "# Creating instances of the subclasses\n",
        "car = Car(\"Toyota\", \"Camry\", 4)\n",
        "motorcycle = Motorcycle(\"Harley-Davidson\", \"Street 750\", 2)\n",
        "plane = Plane(\"Boeing\", \"747\", \"68.4 meters\")\n",
        "\n",
        "# Displaying information about the vehicles\n",
        "print(car.display_info())\n",
        "print(motorcycle.display_info())\n",
        "print(plane.display_info())\n"
      ],
      "metadata": {
        "colab": {
          "base_uri": "https://localhost:8080/"
        },
        "id": "WaqDiAg9wpRu",
        "outputId": "a6b05677-e8f1-40da-e44d-934ba239051f"
      },
      "execution_count": null,
      "outputs": [
        {
          "output_type": "stream",
          "name": "stdout",
          "text": [
            "Brand: Toyota, Model: Camry, Type: Car, Number of Doors: 4\n",
            "Brand: Harley-Davidson, Model: Street 750, Type: Motorcycle, Number of Wheels: 2\n",
            "Brand: Boeing, Model: 747, Type: Plane, Wingspan: 68.4 meters\n"
          ]
        }
      ]
    },
    {
      "cell_type": "markdown",
      "source": [],
      "metadata": {
        "id": "KeUktjnQ9Gpc"
      }
    },
    {
      "cell_type": "code",
      "source": [
        "numbers = [1,2,3,4,5,6,7,8,9,10]\n",
        "numbers[1::2]"
      ],
      "metadata": {
        "colab": {
          "base_uri": "https://localhost:8080/"
        },
        "id": "soDjcNGu6RhM",
        "outputId": "67209b64-05cf-457e-b0cd-41cde9f3146b"
      },
      "execution_count": null,
      "outputs": [
        {
          "output_type": "execute_result",
          "data": {
            "text/plain": [
              "[2, 4, 6, 8, 10]"
            ]
          },
          "metadata": {},
          "execution_count": 14
        }
      ]
    },
    {
      "cell_type": "markdown",
      "source": [
        "# Lambda function"
      ],
      "metadata": {
        "id": "yN40z-hGI6fu"
      }
    },
    {
      "cell_type": "code",
      "source": [
        "names = [\"John\",\"Jose\",\"Louise\"]\n",
        "names_three_chars = list(map(lambda name: name[0:2], names))\n",
        "print(names_three_chars)"
      ],
      "metadata": {
        "colab": {
          "base_uri": "https://localhost:8080/"
        },
        "id": "9wY252qL-u8P",
        "outputId": "11ada01e-745f-4b9b-edc0-878975935543"
      },
      "execution_count": null,
      "outputs": [
        {
          "output_type": "stream",
          "name": "stdout",
          "text": [
            "['Jo', 'Jo', 'Lo']\n"
          ]
        }
      ]
    },
    {
      "cell_type": "code",
      "source": [
        "words = [\"apple\", \"banana\", \"cherry\", \"date\", \"fig\"]\n",
        "first_three_chars = list(map(lambda word: word[:3], words))\n",
        "print(first_three_chars)"
      ],
      "metadata": {
        "colab": {
          "base_uri": "https://localhost:8080/"
        },
        "id": "jkgdwCOEJKHx",
        "outputId": "a047b105-9c36-45d3-d5c8-5fcb9e92c7df"
      },
      "execution_count": null,
      "outputs": [
        {
          "output_type": "stream",
          "name": "stdout",
          "text": [
            "['app', 'ban', 'che', 'dat', 'fig']\n"
          ]
        }
      ]
    },
    {
      "cell_type": "markdown",
      "source": [
        "Convert Fahrenheit to Celsius:"
      ],
      "metadata": {
        "id": "IxcHg85pKt0F"
      }
    },
    {
      "cell_type": "code",
      "source": [
        "fahrenheit_temps = [32, 68, 86, 104]\n",
        "celsius_temps = list(map(lambda f: (f - 32) * 5/9, fahrenheit_temps))\n",
        "print(celsius_temps)  # Output: [0.0, 20.0, 30.0, 40.0]\n"
      ],
      "metadata": {
        "colab": {
          "base_uri": "https://localhost:8080/"
        },
        "id": "dlzPIOvmKqgH",
        "outputId": "2be11849-68eb-4ac7-8938-3d76c52ad9c6"
      },
      "execution_count": null,
      "outputs": [
        {
          "output_type": "stream",
          "name": "stdout",
          "text": [
            "[0.0, 20.0, 30.0, 40.0]\n"
          ]
        }
      ]
    },
    {
      "cell_type": "markdown",
      "source": [
        "# Libraries\n",
        "\n",
        "Libraries allow us to extend Python functionality to accomplish specific tasks. Some libraries are huge and cover many areas others are small and quite specific.\n",
        "\n",
        "Suppose we want to round a float down to an int"
      ],
      "metadata": {
        "id": "iFbF863PN6hK"
      }
    },
    {
      "cell_type": "code",
      "source": [
        "import math"
      ],
      "metadata": {
        "id": "nBgCzi8dO_yi"
      },
      "execution_count": null,
      "outputs": []
    },
    {
      "cell_type": "code",
      "source": [
        "math.floor(3.2)"
      ],
      "metadata": {
        "colab": {
          "base_uri": "https://localhost:8080/"
        },
        "id": "iX2fVQeeO-Bn",
        "outputId": "ac6dbc1f-4bf7-4b9a-d52e-2d6f7e09c572"
      },
      "execution_count": null,
      "outputs": [
        {
          "output_type": "execute_result",
          "data": {
            "text/plain": [
              "3"
            ]
          },
          "metadata": {},
          "execution_count": 23
        }
      ]
    },
    {
      "cell_type": "code",
      "source": [],
      "metadata": {
        "id": "UImkFEvLO_AF"
      },
      "execution_count": null,
      "outputs": []
    }
  ]
}