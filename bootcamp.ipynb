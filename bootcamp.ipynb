{
  "nbformat": 4,
  "nbformat_minor": 0,
  "metadata": {
    "colab": {
      "provenance": [],
      "authorship_tag": "ABX9TyPhRknozNInzFBA/UOPtJZ/",
      "include_colab_link": true
    },
    "kernelspec": {
      "name": "python3",
      "display_name": "Python 3"
    },
    "language_info": {
      "name": "python"
    }
  },
  "cells": [
    {
      "cell_type": "markdown",
      "metadata": {
        "id": "view-in-github",
        "colab_type": "text"
      },
      "source": [
        "<a href=\"https://colab.research.google.com/github/matthewpecsok/bootcamp/blob/main/bootcamp.ipynb\" target=\"_parent\"><img src=\"https://colab.research.google.com/assets/colab-badge.svg\" alt=\"Open In Colab\"/></a>"
      ]
    },
    {
      "cell_type": "markdown",
      "source": [
        "# Basic Syntax and Variables"
      ],
      "metadata": {
        "id": "4QXKJ98uoct3"
      }
    },
    {
      "cell_type": "code",
      "source": [
        "print(\"Hello World!\")"
      ],
      "metadata": {
        "id": "GukSQ96w-Cyf"
      },
      "execution_count": null,
      "outputs": []
    },
    {
      "cell_type": "code",
      "source": [
        "\"Hello World!\""
      ],
      "metadata": {
        "id": "wZ9Wf9kO-n_-"
      },
      "execution_count": null,
      "outputs": []
    },
    {
      "cell_type": "markdown",
      "source": [
        "Errors!\n",
        "\n",
        "It's the best place to start. Because you'll create lots of them."
      ],
      "metadata": {
        "id": "3lqEBXwl619s"
      }
    },
    {
      "cell_type": "markdown",
      "source": [
        "The first type of error we'll cover is syntax error. Get used to it. Incorrect code will often generate syntax errors."
      ],
      "metadata": {
        "id": "udjuCh0g7WKO"
      }
    },
    {
      "cell_type": "code",
      "source": [
        "1 = 2"
      ],
      "metadata": {
        "colab": {
          "base_uri": "https://localhost:8080/",
          "height": 140
        },
        "id": "ru9vcwTX61lf",
        "outputId": "a399860d-1690-4cb8-8504-2f403fc34eed"
      },
      "execution_count": 272,
      "outputs": [
        {
          "output_type": "error",
          "ename": "SyntaxError",
          "evalue": "cannot assign to literal here. Maybe you meant '==' instead of '='? (<ipython-input-272-c0ab9e3898ea>, line 1)",
          "traceback": [
            "\u001b[0;36m  File \u001b[0;32m\"<ipython-input-272-c0ab9e3898ea>\"\u001b[0;36m, line \u001b[0;32m1\u001b[0m\n\u001b[0;31m    1 = 2\u001b[0m\n\u001b[0m    ^\u001b[0m\n\u001b[0;31mSyntaxError\u001b[0m\u001b[0;31m:\u001b[0m cannot assign to literal here. Maybe you meant '==' instead of '='?\n"
          ]
        }
      ]
    },
    {
      "cell_type": "code",
      "source": [
        "\"Hello World"
      ],
      "metadata": {
        "id": "9XrIonC97m34"
      },
      "execution_count": null,
      "outputs": []
    },
    {
      "cell_type": "markdown",
      "source": [
        "## literals"
      ],
      "metadata": {
        "id": "3FVCqWXIEYCk"
      }
    },
    {
      "cell_type": "markdown",
      "source": [
        "string literals\n",
        "\n",
        "a string can contain, letters, numbers special characters etc."
      ],
      "metadata": {
        "id": "b7vvxHrCEoGd"
      }
    },
    {
      "cell_type": "code",
      "execution_count": null,
      "metadata": {
        "id": "fsSuvtzADiJ2"
      },
      "outputs": [],
      "source": [
        "\"hello world!\""
      ]
    },
    {
      "cell_type": "code",
      "source": [
        "print(\"hello world!\")"
      ],
      "metadata": {
        "id": "XmvCYHYdDvg9"
      },
      "execution_count": null,
      "outputs": []
    },
    {
      "cell_type": "code",
      "source": [
        "print(\"hello \"+ \"world!\")"
      ],
      "metadata": {
        "id": "wNPqsYZyD-7Q"
      },
      "execution_count": null,
      "outputs": []
    },
    {
      "cell_type": "markdown",
      "source": [
        "you try"
      ],
      "metadata": {
        "id": "_VxeguPcW1Sd"
      }
    },
    {
      "cell_type": "code",
      "source": [
        "# create a string literal and display it"
      ],
      "metadata": {
        "id": "RB2e3082W3y6"
      },
      "execution_count": null,
      "outputs": []
    },
    {
      "cell_type": "markdown",
      "source": [
        "numeric literals"
      ],
      "metadata": {
        "id": "MYlR2tdvEy48"
      }
    },
    {
      "cell_type": "code",
      "source": [
        "4"
      ],
      "metadata": {
        "id": "gaqhjBPXEwAl"
      },
      "execution_count": null,
      "outputs": []
    },
    {
      "cell_type": "markdown",
      "source": [
        "you try"
      ],
      "metadata": {
        "id": "bj0HP9MYXAoi"
      }
    },
    {
      "cell_type": "code",
      "source": [
        "# create a numeric literal and display it"
      ],
      "metadata": {
        "id": "QZmvtNH8XDQ4"
      },
      "execution_count": null,
      "outputs": []
    },
    {
      "cell_type": "markdown",
      "source": [
        "addition with literals"
      ],
      "metadata": {
        "id": "P_EARnx5E1TJ"
      }
    },
    {
      "cell_type": "code",
      "source": [
        "1+6"
      ],
      "metadata": {
        "id": "TzFojmBPD4Ez"
      },
      "execution_count": null,
      "outputs": []
    },
    {
      "cell_type": "markdown",
      "source": [
        "you try\n",
        "\n"
      ],
      "metadata": {
        "id": "TCPbGgVYFEa5"
      }
    },
    {
      "cell_type": "code",
      "source": [
        "# addition with two numeric literals\n",
        "\n"
      ],
      "metadata": {
        "id": "BK_JdBtgFG59"
      },
      "execution_count": null,
      "outputs": []
    },
    {
      "cell_type": "markdown",
      "source": [
        "you try"
      ],
      "metadata": {
        "id": "7jPCrkAiFZjq"
      }
    },
    {
      "cell_type": "code",
      "source": [
        "# multiply two numeric literals"
      ],
      "metadata": {
        "id": "8LtccQVdXYUO"
      },
      "execution_count": null,
      "outputs": []
    },
    {
      "cell_type": "markdown",
      "source": [
        "literals are more useful when their values are assigned to a variable."
      ],
      "metadata": {
        "id": "EQRi5l0gFlu9"
      }
    },
    {
      "cell_type": "markdown",
      "source": [
        "## comments"
      ],
      "metadata": {
        "id": "7nu21TXkTcoe"
      }
    },
    {
      "cell_type": "code",
      "source": [
        "2 + 4 # this is a comment. it's not code"
      ],
      "metadata": {
        "id": "IH7GDeqnTSuC"
      },
      "execution_count": null,
      "outputs": []
    },
    {
      "cell_type": "markdown",
      "source": [
        "## variables"
      ],
      "metadata": {
        "id": "8hUcQBR3IZWn"
      }
    },
    {
      "cell_type": "markdown",
      "source": [
        "we use the = assignment operator to assign the literal value to a variable\n",
        "\n",
        "other operators are + / - *\n"
      ],
      "metadata": {
        "id": "U72BkjM9OAtS"
      }
    },
    {
      "cell_type": "markdown",
      "source": [
        "### string\n",
        "\n",
        "https://www.w3schools.com/python/python_strings.asp\n",
        "\n",
        "Are objects. More later."
      ],
      "metadata": {
        "id": "AXT7f0K6RHQC"
      }
    },
    {
      "cell_type": "code",
      "source": [
        "my_name = \"Matt\"\n",
        "\n",
        "my_name"
      ],
      "metadata": {
        "id": "u6CunVgRFr2K"
      },
      "execution_count": null,
      "outputs": []
    },
    {
      "cell_type": "code",
      "source": [
        "type(my_name)"
      ],
      "metadata": {
        "id": "-opuHmKxFvcw"
      },
      "execution_count": null,
      "outputs": []
    },
    {
      "cell_type": "code",
      "source": [
        "# create a string variable and display it\n",
        "\n"
      ],
      "metadata": {
        "id": "3wxeWqA8bqFw"
      },
      "execution_count": null,
      "outputs": []
    },
    {
      "cell_type": "markdown",
      "source": [
        "we use the type function and pass in my_name. the return value tells us what type of variable my_name is. given that we assigned a string literal to it, it should be no surprise that it is a string type (str)."
      ],
      "metadata": {
        "id": "774WReLYFzWy"
      }
    },
    {
      "cell_type": "code",
      "source": [
        "first_name = \"Matthew\""
      ],
      "metadata": {
        "id": "wcqLY_XrzspP"
      },
      "execution_count": null,
      "outputs": []
    },
    {
      "cell_type": "markdown",
      "source": [
        "#### len\n",
        "\n",
        "Find the length of the string"
      ],
      "metadata": {
        "id": "8JU4UCBQz_7Z"
      }
    },
    {
      "cell_type": "code",
      "source": [
        "len(first_name)"
      ],
      "metadata": {
        "id": "SUz0fZHuz4OD"
      },
      "execution_count": null,
      "outputs": []
    },
    {
      "cell_type": "markdown",
      "source": [
        "#### slice\n",
        "\n",
        "get the first 4 elements. strings are arrays so array slicing syntax works."
      ],
      "metadata": {
        "id": "gHPwMiyx0IGl"
      }
    },
    {
      "cell_type": "code",
      "source": [
        "first_name[0:4]"
      ],
      "metadata": {
        "id": "bKQeHAIN0FHQ"
      },
      "execution_count": null,
      "outputs": []
    },
    {
      "cell_type": "code",
      "source": [
        "first_name[4:]"
      ],
      "metadata": {
        "id": "1awfwl-X1m1U"
      },
      "execution_count": null,
      "outputs": []
    },
    {
      "cell_type": "markdown",
      "source": [
        "you try!"
      ],
      "metadata": {
        "id": "SFA_B14YFNdx"
      }
    },
    {
      "cell_type": "code",
      "source": [
        "# get the first 3 characters of your name"
      ],
      "metadata": {
        "id": "iJD3A40zFO9k"
      },
      "execution_count": null,
      "outputs": []
    },
    {
      "cell_type": "code",
      "source": [
        "# get the 3rd to the last character of your name"
      ],
      "metadata": {
        "id": "PBVvlIOeFVLb"
      },
      "execution_count": null,
      "outputs": []
    },
    {
      "cell_type": "markdown",
      "source": [
        "#### combining numbers and strings\n",
        "\n",
        "f string syntax and variables within strings."
      ],
      "metadata": {
        "id": "RCb1zdQ22NOo"
      }
    },
    {
      "cell_type": "code",
      "source": [
        "month = \"August\"\n",
        "day = 15\n",
        "\n",
        "f'today is {month} {day}th'"
      ],
      "metadata": {
        "id": "EInyNfYi2DzE"
      },
      "execution_count": null,
      "outputs": []
    },
    {
      "cell_type": "markdown",
      "source": [
        "You try\n",
        "\n",
        "print the following text. \"My first name is Matthew and my last name is Pecsok\" where your first and last name are variables instead of hardcoded string literals."
      ],
      "metadata": {
        "id": "VEmxNWwhNs2i"
      }
    },
    {
      "cell_type": "code",
      "source": [
        "# your_first_name =\n",
        "# your_last_name =\n",
        "\n",
        "f'My first name is  and my last name is '"
      ],
      "metadata": {
        "id": "QT3dDzxjN_xB"
      },
      "execution_count": null,
      "outputs": []
    },
    {
      "cell_type": "markdown",
      "source": [
        "#### substring check\n",
        "\n",
        "does the string contain a substring."
      ],
      "metadata": {
        "id": "IkZoQabd0MAA"
      }
    },
    {
      "cell_type": "code",
      "source": [
        "\"Matt\" in first_name"
      ],
      "metadata": {
        "id": "adKuw-3Yz6Lz"
      },
      "execution_count": null,
      "outputs": []
    },
    {
      "cell_type": "code",
      "source": [
        "# you try. check if Cat is in Catherine"
      ],
      "metadata": {
        "id": "J9MocqFT0cYw"
      },
      "execution_count": null,
      "outputs": []
    },
    {
      "cell_type": "markdown",
      "source": [
        "### int"
      ],
      "metadata": {
        "id": "GfAPimsRRK5D"
      }
    },
    {
      "cell_type": "code",
      "source": [
        "my_number = 42\n",
        "\n",
        "my_number"
      ],
      "metadata": {
        "id": "uG6NMDpcFySV"
      },
      "execution_count": null,
      "outputs": []
    },
    {
      "cell_type": "code",
      "source": [
        "type(my_number)"
      ],
      "metadata": {
        "id": "CMNLqhmvGmUG"
      },
      "execution_count": null,
      "outputs": []
    },
    {
      "cell_type": "markdown",
      "source": [
        "again we assigned an integer to the variable so the type of that variable is integer (int)"
      ],
      "metadata": {
        "id": "PaBj6-rfGp8F"
      }
    },
    {
      "cell_type": "markdown",
      "source": [
        "you try"
      ],
      "metadata": {
        "id": "5RcA1De4b04P"
      }
    },
    {
      "cell_type": "code",
      "source": [
        "# create an int variable and display it"
      ],
      "metadata": {
        "id": "BDxcHltabxM1"
      },
      "execution_count": null,
      "outputs": []
    },
    {
      "cell_type": "markdown",
      "source": [
        "### float"
      ],
      "metadata": {
        "id": "crP2XRnMRCL3"
      }
    },
    {
      "cell_type": "markdown",
      "source": [
        "floating points allow for quick computation, but for financial transactions in which exact precision is required may not be appropriate."
      ],
      "metadata": {
        "id": "MWCHRPmpIn9N"
      }
    },
    {
      "cell_type": "code",
      "source": [
        "my_float = 42.5\n",
        "\n",
        "type(my_float)"
      ],
      "metadata": {
        "id": "Hh5q9dFzGoAP"
      },
      "execution_count": null,
      "outputs": []
    },
    {
      "cell_type": "code",
      "source": [
        "42.5/1.39"
      ],
      "metadata": {
        "id": "DoPAnMb0RQaG"
      },
      "execution_count": null,
      "outputs": []
    },
    {
      "cell_type": "markdown",
      "source": [
        "create your own float variable"
      ],
      "metadata": {
        "id": "NsaA6JcTIPOd"
      }
    },
    {
      "cell_type": "code",
      "source": [
        " # create a float"
      ],
      "metadata": {
        "id": "zmKFoLf1IlDj"
      },
      "execution_count": null,
      "outputs": []
    },
    {
      "cell_type": "markdown",
      "source": [
        "### Boolean"
      ],
      "metadata": {
        "id": "F87kFhTkQ7zM"
      }
    },
    {
      "cell_type": "markdown",
      "source": [
        "Boolean variables are either True or False. That may not sound very exciting, but True/False is a critical component in coding."
      ],
      "metadata": {
        "id": "lXJBK10ZH4q0"
      }
    },
    {
      "cell_type": "code",
      "source": [
        "my_bool = True\n",
        "\n",
        "type(my_bool)\n"
      ],
      "metadata": {
        "id": "KLjiMMvhHU7W"
      },
      "execution_count": null,
      "outputs": []
    },
    {
      "cell_type": "markdown",
      "source": [
        "often boolean variables are created with Conditions. we can create a condition by doing a test"
      ],
      "metadata": {
        "id": "VNRFruIALEFQ"
      }
    },
    {
      "cell_type": "markdown",
      "source": [
        "### operators\n",
        "\n",
        "== is the equality operator.\n"
      ],
      "metadata": {
        "id": "VIX6ZhZsoFX7"
      }
    },
    {
      "cell_type": "code",
      "source": [
        "4 == 2 # equality operator"
      ],
      "metadata": {
        "id": "oUlVHefrR8N0"
      },
      "execution_count": null,
      "outputs": []
    },
    {
      "cell_type": "code",
      "source": [
        "4 != 2 # inequality operator"
      ],
      "metadata": {
        "id": "cOi_l672Ujuw"
      },
      "execution_count": null,
      "outputs": []
    },
    {
      "cell_type": "code",
      "source": [
        "5 < 3 # less than operator"
      ],
      "metadata": {
        "id": "aQF4lDq8H8ka"
      },
      "execution_count": null,
      "outputs": []
    },
    {
      "cell_type": "code",
      "source": [
        "five_lt_three = 5 < 3\n",
        "\n",
        "five_lt_three"
      ],
      "metadata": {
        "id": "sTsNaDR3LLyl"
      },
      "execution_count": null,
      "outputs": []
    },
    {
      "cell_type": "markdown",
      "source": [
        "You try create a new variable that has a boolean value based on two numbers."
      ],
      "metadata": {
        "id": "xL8RD2SwRoPx"
      }
    },
    {
      "cell_type": "code",
      "source": [
        "# you put code here"
      ],
      "metadata": {
        "id": "88-J3-5zRuPN"
      },
      "execution_count": null,
      "outputs": []
    },
    {
      "cell_type": "markdown",
      "source": [
        "strings can also be tested for equality"
      ],
      "metadata": {
        "id": "4P8z0hZYRxnL"
      }
    },
    {
      "cell_type": "code",
      "source": [
        "\"matt\" == \"MATT\""
      ],
      "metadata": {
        "id": "fizTz-EdLOZ7"
      },
      "execution_count": null,
      "outputs": []
    },
    {
      "cell_type": "code",
      "source": [
        "lc_name = \"matt\"\n",
        "uc_name = \"MATT\"\n",
        "\n",
        "lc_name == uc_name"
      ],
      "metadata": {
        "id": "1bkbh5HXLh1d"
      },
      "execution_count": null,
      "outputs": []
    },
    {
      "cell_type": "code",
      "source": [
        "lc_name.upper() == uc_name"
      ],
      "metadata": {
        "id": "DKLqMPnRLlQQ"
      },
      "execution_count": null,
      "outputs": []
    },
    {
      "cell_type": "code",
      "source": [
        "lc_name.title()"
      ],
      "metadata": {
        "id": "0gNStm0RL7_X"
      },
      "execution_count": null,
      "outputs": []
    },
    {
      "cell_type": "code",
      "source": [
        "name_one = \"Catherine\"\n",
        "name_two = \"CATHERINE\"\n",
        "\n",
        "# you try, get a true value when testing for equality of the two strings above"
      ],
      "metadata": {
        "id": "bQG9UHopMN78"
      },
      "execution_count": null,
      "outputs": []
    },
    {
      "cell_type": "markdown",
      "source": [
        "Booleans also have an integer equivalent.\n",
        "\n",
        "*   False = 0\n",
        "*   True = 1"
      ],
      "metadata": {
        "id": "8gb2G2mhMvkM"
      }
    },
    {
      "cell_type": "markdown",
      "source": [
        "effectively 0 + 0 + 1"
      ],
      "metadata": {
        "id": "sev85jbxM5Jc"
      }
    },
    {
      "cell_type": "code",
      "source": [
        "False+False+True"
      ],
      "metadata": {
        "id": "KXYKhBNnMnX8"
      },
      "execution_count": null,
      "outputs": []
    },
    {
      "cell_type": "code",
      "source": [
        "\"\"\"\n",
        "\n",
        "\n",
        "\"\"\""
      ],
      "metadata": {
        "id": "8F4-ixG8RW8E"
      },
      "execution_count": null,
      "outputs": []
    },
    {
      "cell_type": "markdown",
      "source": [
        "This is useful when we want to count the number of true instances. We simply sum them up. The total is the number of true instances."
      ],
      "metadata": {
        "id": "GKY89H0xM-Lt"
      }
    },
    {
      "cell_type": "code",
      "source": [
        "# create 4 boolean variables that when added give you the numeric result of 3"
      ],
      "metadata": {
        "id": "EaLTVFAXccUy"
      },
      "execution_count": null,
      "outputs": []
    },
    {
      "cell_type": "markdown",
      "source": [
        "## casting\n",
        "\n",
        "what if we have a string and we want to convert it to a number? or vice versa. we can use casting to convert between types"
      ],
      "metadata": {
        "id": "8io4Ea60x9I_"
      }
    },
    {
      "cell_type": "code",
      "source": [
        "my_string = \"42\"\n",
        "\n",
        "print(type(my_string))\n",
        "\n",
        "my_string = int(my_string)\n",
        "\n",
        "print(type(my_string))\n",
        "\n",
        "my_string"
      ],
      "metadata": {
        "id": "1EqP5zqCyP_G"
      },
      "execution_count": null,
      "outputs": []
    },
    {
      "cell_type": "code",
      "source": [
        "my_float = 1.234\n",
        "\n",
        "print(type(my_float))\n",
        "\n",
        "my_float = int(my_float)\n",
        "\n",
        "print(type(my_float))\n",
        "\n",
        "my_float"
      ],
      "metadata": {
        "id": "7fryAjWeylV_"
      },
      "execution_count": null,
      "outputs": []
    },
    {
      "cell_type": "markdown",
      "source": [
        "## precedence\n",
        "\n",
        "python follows common mathematics conventions\n",
        "\n",
        "PEMDAS\n",
        "\n",
        "* Parentheses\n",
        "* Exponents (Powers and Roots)\n",
        "* Multiplication and Division (from left to right)\n",
        "* Addition and Subtraction (from left to right)\n",
        "\n",
        "if we simply evaluated from left to right we might get the 2+3 = 5 and then 5 * 4 = 20. This is not how we would expect evaluation to work in math terms."
      ],
      "metadata": {
        "id": "MI0Be1jLNoaQ"
      }
    },
    {
      "cell_type": "code",
      "source": [
        "2 + 3 * 4"
      ],
      "metadata": {
        "id": "HmywdqRnMqH5"
      },
      "execution_count": null,
      "outputs": []
    },
    {
      "cell_type": "code",
      "source": [
        "(2 + 3) * 4"
      ],
      "metadata": {
        "id": "WXNdMaKlOmSh"
      },
      "execution_count": null,
      "outputs": []
    },
    {
      "cell_type": "markdown",
      "source": [
        "you try\n",
        "\n",
        "subtract and divide numbers, then use parenthesis to change the order of operations"
      ],
      "metadata": {
        "id": "vUJYn3dLSsDC"
      }
    },
    {
      "cell_type": "code",
      "source": [
        "# you try here"
      ],
      "metadata": {
        "id": "XiYr17nIPnsN"
      },
      "execution_count": null,
      "outputs": []
    },
    {
      "cell_type": "code",
      "source": [
        "# and here"
      ],
      "metadata": {
        "id": "TkKP0IXLTKuJ"
      },
      "execution_count": null,
      "outputs": []
    },
    {
      "cell_type": "markdown",
      "source": [
        "# Conditions\n",
        "\n",
        "we can combine operators with conditions to create logical sequences in code\n",
        "\n",
        "if statements evaluate to true or false (boolean). If true, else false.\n",
        "\n",
        "two spaces before the code within the if else\n"
      ],
      "metadata": {
        "id": "mKXJrigvVHVV"
      }
    },
    {
      "cell_type": "markdown",
      "source": [
        "### if/else statements"
      ],
      "metadata": {
        "id": "GOwCsAibk7WW"
      }
    },
    {
      "cell_type": "code",
      "source": [
        "if (True):\n",
        "  print(\"It's true\")"
      ],
      "metadata": {
        "id": "lVDeTdx1Vktz"
      },
      "execution_count": null,
      "outputs": []
    },
    {
      "cell_type": "code",
      "source": [
        "if (4 < 2):\n",
        "  print(\"True:\",\"4 is less than 2\")\n",
        "else:\n",
        "  print(\"False:\",\"4 is greater than or equal to 2\")\n"
      ],
      "metadata": {
        "id": "zB-haUkaTMP7"
      },
      "execution_count": null,
      "outputs": []
    },
    {
      "cell_type": "code",
      "source": [
        "my_name"
      ],
      "metadata": {
        "id": "lMHlrp-Pay3s"
      },
      "execution_count": null,
      "outputs": []
    },
    {
      "cell_type": "code",
      "source": [
        "if (\"a\" in my_name):\n",
        "  print(\"True:\",\"'a' is in my_name\")\n",
        "else:\n",
        "  print(\"False:\",\"'a' is not in my_name\")\n"
      ],
      "metadata": {
        "id": "MbeCEc1ZVkOM"
      },
      "execution_count": null,
      "outputs": []
    },
    {
      "cell_type": "markdown",
      "source": [
        "you try"
      ],
      "metadata": {
        "id": "bDyXYviudH1B"
      }
    },
    {
      "cell_type": "code",
      "source": [
        "# create an if/else statement that evaluates to either true or false and shows some result."
      ],
      "metadata": {
        "id": "XLrO7luIdJAq"
      },
      "execution_count": null,
      "outputs": []
    },
    {
      "cell_type": "code",
      "source": [
        "(5>4) and (4<3)"
      ],
      "metadata": {
        "id": "8D3CjOEwiM3d"
      },
      "execution_count": null,
      "outputs": []
    },
    {
      "cell_type": "code",
      "source": [
        "if (5>4) and (4<3):\n",
        "  print(\"True:\",\"5 is greater than 4 and 4 is less than 3\")\n",
        "else:\n",
        "  print(\"False:\",\"5 is not greater than 4 or 4 is not less than 3\")"
      ],
      "metadata": {
        "id": "otee1S3Sgh5i"
      },
      "execution_count": null,
      "outputs": []
    },
    {
      "cell_type": "code",
      "source": [
        "(5>4) or (4<3)"
      ],
      "metadata": {
        "id": "i4kQbGFTiKqP"
      },
      "execution_count": null,
      "outputs": []
    },
    {
      "cell_type": "code",
      "source": [
        "if (5>4) or (4<3):\n",
        "  print(\"True:\",\"5 is greater than 4 or 4 is less than 3\")\n",
        "else:\n",
        "  print(\"False:\",\"5 is neither greater than 4 nor 4 is less than 3\")"
      ],
      "metadata": {
        "id": "N2f9dzGqg0qm"
      },
      "execution_count": null,
      "outputs": []
    },
    {
      "cell_type": "code",
      "source": [
        "# You try. Is either of the folliwing true 40 > 20 or 20 > 10?"
      ],
      "metadata": {
        "id": "_f61GEG4SNVz"
      },
      "execution_count": null,
      "outputs": []
    },
    {
      "cell_type": "markdown",
      "source": [
        "# Data Structures"
      ],
      "metadata": {
        "id": "eqON-TqWqGaq"
      }
    },
    {
      "cell_type": "markdown",
      "source": [
        "## lists\n",
        "\n",
        "Suppose we have a list of numbers\n",
        "\n",
        "5,3,9,10"
      ],
      "metadata": {
        "id": "ANnsZpnfeGMT"
      }
    },
    {
      "cell_type": "code",
      "source": [
        "my_numbers = [10,5,3,9]\n",
        "\n",
        "my_numbers"
      ],
      "metadata": {
        "id": "m4q2mD5QaxTu"
      },
      "execution_count": null,
      "outputs": []
    },
    {
      "cell_type": "markdown",
      "source": [
        "### type"
      ],
      "metadata": {
        "id": "IY0AZDQ-zKVq"
      }
    },
    {
      "cell_type": "code",
      "source": [
        "type(my_numbers)"
      ],
      "metadata": {
        "id": "-PxXEi8Lel2E"
      },
      "execution_count": null,
      "outputs": []
    },
    {
      "cell_type": "markdown",
      "source": [
        "### length"
      ],
      "metadata": {
        "id": "30_3yejUzI-U"
      }
    },
    {
      "cell_type": "code",
      "source": [
        "len(my_numbers)"
      ],
      "metadata": {
        "id": "iDIA1U6CfxWl"
      },
      "execution_count": null,
      "outputs": []
    },
    {
      "cell_type": "markdown",
      "source": [
        "### sum"
      ],
      "metadata": {
        "id": "OgwW7zaizMmf"
      }
    },
    {
      "cell_type": "code",
      "source": [
        "sum(my_numbers)"
      ],
      "metadata": {
        "id": "GOG-szy-eUgD"
      },
      "execution_count": null,
      "outputs": []
    },
    {
      "cell_type": "markdown",
      "source": [
        "lists are ordered, changeable, allows duplicates"
      ],
      "metadata": {
        "id": "SEb_tkLBgwq7"
      }
    },
    {
      "cell_type": "markdown",
      "source": [
        "### append\n",
        "\n",
        "append() is a method for lists.\n",
        "\n",
        "methods are functions that operate in the context of the object they are tied to.\n",
        "\n",
        "append takes an argument of the thing we want to append to the list."
      ],
      "metadata": {
        "id": "9cZ0s6ltMxq-"
      }
    },
    {
      "cell_type": "code",
      "source": [
        "my_numbers.append(50)\n",
        "my_numbers"
      ],
      "metadata": {
        "id": "Gu-7iS5oeWWJ"
      },
      "execution_count": null,
      "outputs": []
    },
    {
      "cell_type": "markdown",
      "source": [
        "first element"
      ],
      "metadata": {
        "id": "D8hPNECdie4f"
      }
    },
    {
      "cell_type": "code",
      "source": [
        "my_numbers[0]"
      ],
      "metadata": {
        "id": "vijhOlSPiCMy"
      },
      "execution_count": null,
      "outputs": []
    },
    {
      "cell_type": "markdown",
      "source": [
        "last element"
      ],
      "metadata": {
        "id": "fhEbg3ckigko"
      }
    },
    {
      "cell_type": "code",
      "source": [
        "my_numbers[-1]"
      ],
      "metadata": {
        "id": "gXIGOjDqiDiZ"
      },
      "execution_count": null,
      "outputs": []
    },
    {
      "cell_type": "markdown",
      "source": [
        "what other methods are available for lists?\n",
        "\n",
        "one option is to read up on documentation available on the internet such as:\n",
        "\n",
        "https://www.w3schools.com/python/python_ref_list.asp\n"
      ],
      "metadata": {
        "id": "oxqNNagbOIVO"
      }
    },
    {
      "cell_type": "code",
      "source": [
        "dir(my_numbers)"
      ],
      "metadata": {
        "id": "g6pIsOWMiL4r"
      },
      "execution_count": null,
      "outputs": []
    },
    {
      "cell_type": "markdown",
      "source": [
        "### help"
      ],
      "metadata": {
        "id": "v7XM41toVMx7"
      }
    },
    {
      "cell_type": "code",
      "source": [
        "help(my_numbers.append)"
      ],
      "metadata": {
        "id": "K8KFgDFnOtPr"
      },
      "execution_count": null,
      "outputs": []
    },
    {
      "cell_type": "code",
      "source": [
        "help(my_numbers.sort)"
      ],
      "metadata": {
        "id": "6VXcF2sCPZgR"
      },
      "execution_count": null,
      "outputs": []
    },
    {
      "cell_type": "markdown",
      "source": [
        "### sort"
      ],
      "metadata": {
        "id": "8FH38Z-NU9u-"
      }
    },
    {
      "cell_type": "code",
      "source": [
        "my_numbers.sort()\n",
        "my_numbers"
      ],
      "metadata": {
        "id": "WNliFV0VP5c1"
      },
      "execution_count": null,
      "outputs": []
    },
    {
      "cell_type": "markdown",
      "source": [
        "### reverse"
      ],
      "metadata": {
        "id": "IgCYYh8UU4OA"
      }
    },
    {
      "cell_type": "code",
      "source": [
        "my_numbers.reverse()\n",
        "my_numbers"
      ],
      "metadata": {
        "id": "CFIVx84FRgRN"
      },
      "execution_count": null,
      "outputs": []
    },
    {
      "cell_type": "markdown",
      "source": [
        "### sum"
      ],
      "metadata": {
        "id": "kgFv9ZwFU24y"
      }
    },
    {
      "cell_type": "code",
      "source": [
        "sum(my_numbers)"
      ],
      "metadata": {
        "id": "RLyvLTfdRvYf"
      },
      "execution_count": null,
      "outputs": []
    },
    {
      "cell_type": "markdown",
      "source": [
        "### index"
      ],
      "metadata": {
        "id": "WnjFw8paU1-D"
      }
    },
    {
      "cell_type": "code",
      "source": [
        "my_numbers.index(10)"
      ],
      "metadata": {
        "id": "FnEiCrItT1rf"
      },
      "execution_count": null,
      "outputs": []
    },
    {
      "cell_type": "markdown",
      "source": [
        "now you try"
      ],
      "metadata": {
        "id": "PILs_yXPUy2a"
      }
    },
    {
      "cell_type": "code",
      "source": [
        "# create a list of numbers"
      ],
      "metadata": {
        "id": "ZLG3CEaNUSpn"
      },
      "execution_count": null,
      "outputs": []
    },
    {
      "cell_type": "code",
      "source": [
        "# append a value to the list"
      ],
      "metadata": {
        "id": "rmDHt7hNVuNN"
      },
      "execution_count": null,
      "outputs": []
    },
    {
      "cell_type": "code",
      "source": [
        "# sort the list"
      ],
      "metadata": {
        "id": "U15-df6nVw00"
      },
      "execution_count": null,
      "outputs": []
    },
    {
      "cell_type": "code",
      "source": [
        "# reverse the list"
      ],
      "metadata": {
        "id": "FNs8gN5vVyW8"
      },
      "execution_count": null,
      "outputs": []
    },
    {
      "cell_type": "code",
      "source": [
        "# sum the list"
      ],
      "metadata": {
        "id": "h8MD1CRgVz75"
      },
      "execution_count": null,
      "outputs": []
    },
    {
      "cell_type": "code",
      "source": [
        "# get the index for a given element"
      ],
      "metadata": {
        "id": "XpYq90g3V3eO"
      },
      "execution_count": null,
      "outputs": []
    },
    {
      "cell_type": "markdown",
      "source": [
        "### combining lists"
      ],
      "metadata": {
        "id": "T__Ck9psGrIL"
      }
    },
    {
      "cell_type": "code",
      "source": [
        "list_one = [1,2,3,4,5]\n",
        "list_two = [6,7,8,9,10]\n",
        "\n",
        "new_list = list_one + list_two\n",
        "\n",
        "new_list\n"
      ],
      "metadata": {
        "id": "2GpqmVZ7FQbQ"
      },
      "execution_count": null,
      "outputs": []
    },
    {
      "cell_type": "code",
      "source": [
        "new_list"
      ],
      "metadata": {
        "id": "hxQ9BItLGAti"
      },
      "execution_count": null,
      "outputs": []
    },
    {
      "cell_type": "code",
      "source": [
        "# create two lists and join them"
      ],
      "metadata": {
        "id": "HuI3TRhfGOSr"
      },
      "execution_count": null,
      "outputs": []
    },
    {
      "cell_type": "markdown",
      "source": [
        "### copy lists"
      ],
      "metadata": {
        "id": "WBve2Dj-Hgdt"
      }
    },
    {
      "cell_type": "markdown",
      "source": [
        "notice how in the following example after copying the list and updatating the copy, the original list is updated also.\n",
        "\n",
        "This is a concept in programming known as a reference to an object. The new list is new in name only. the actual values are shared between lists."
      ],
      "metadata": {
        "id": "HThBGXrbIF8M"
      }
    },
    {
      "cell_type": "code",
      "source": [
        "names_list = ['Selena','Jose','John','Hannah']\n",
        "\n",
        "new_names_list = names_list # shallow copy\n",
        "\n",
        "new_names_list[0] = 'Matt'\n",
        "\n",
        "print(names_list)\n",
        "print(new_names_list)\n",
        "\n"
      ],
      "metadata": {
        "id": "saQsRC0nGaE1"
      },
      "execution_count": null,
      "outputs": []
    },
    {
      "cell_type": "code",
      "source": [
        "import copy\n",
        "\n",
        "names_list = ['Selena','Jose','John','Hannah']\n",
        "\n",
        "new_names_list = copy.deepcopy(names_list) # deep copy\n",
        "\n",
        "new_names_list[0] = 'Matt'\n",
        "\n",
        "print(names_list)\n",
        "print(new_names_list)\n"
      ],
      "metadata": {
        "id": "IQ8Orct9JLd8"
      },
      "execution_count": null,
      "outputs": []
    },
    {
      "cell_type": "code",
      "source": [
        "# you try, access the second element in new names list"
      ],
      "metadata": {
        "id": "Nt-0lFJeLQGf"
      },
      "execution_count": null,
      "outputs": []
    },
    {
      "cell_type": "markdown",
      "source": [
        "### pop\n",
        "\n",
        "remove an element from the list."
      ],
      "metadata": {
        "id": "BTLJvEbqNuAc"
      }
    },
    {
      "cell_type": "code",
      "source": [
        "new_names_list[3]"
      ],
      "metadata": {
        "id": "YKWbMikZOeKY"
      },
      "execution_count": null,
      "outputs": []
    },
    {
      "cell_type": "code",
      "source": [
        "new_names_list.pop(3)\n",
        "new_names_list"
      ],
      "metadata": {
        "id": "zmsZM501NfqE"
      },
      "execution_count": null,
      "outputs": []
    },
    {
      "cell_type": "code",
      "source": [
        "# you try. pop an element from the list."
      ],
      "metadata": {
        "id": "tjKnTMhjNxS4"
      },
      "execution_count": null,
      "outputs": []
    },
    {
      "cell_type": "markdown",
      "source": [
        "## slicing\n",
        "\n",
        "and dicing!\n",
        "\n"
      ],
      "metadata": {
        "id": "0Huq8fR1SUmU"
      }
    },
    {
      "cell_type": "code",
      "source": [
        "original_list = [0, 1, 2, 3, 4, 5, 6, 7, 8, 9]"
      ],
      "metadata": {
        "id": "dEBulowlQNMm"
      },
      "execution_count": null,
      "outputs": []
    },
    {
      "cell_type": "markdown",
      "source": [
        "Extract elements from index 2 to 5 (exclusive)"
      ],
      "metadata": {
        "id": "CtXEUZmAQThB"
      }
    },
    {
      "cell_type": "code",
      "source": [
        "original_list[2:5]"
      ],
      "metadata": {
        "id": "rxmLyR5_QO7X"
      },
      "execution_count": null,
      "outputs": []
    },
    {
      "cell_type": "markdown",
      "source": [
        "First element to last (excludes index 0)"
      ],
      "metadata": {
        "id": "loNU-Y62QvOK"
      }
    },
    {
      "cell_type": "code",
      "source": [
        "original_list[1:]"
      ],
      "metadata": {
        "id": "VxIFlWZ8Qqi4"
      },
      "execution_count": null,
      "outputs": []
    },
    {
      "cell_type": "markdown",
      "source": [
        "every 3 elements"
      ],
      "metadata": {
        "id": "nWBilJblQ-l7"
      }
    },
    {
      "cell_type": "code",
      "source": [
        "original_list[::3]"
      ],
      "metadata": {
        "id": "y6nKlLSHQ3jw"
      },
      "execution_count": null,
      "outputs": []
    },
    {
      "cell_type": "markdown",
      "source": [
        "reverse the list"
      ],
      "metadata": {
        "id": "GKdtdBpgRIPk"
      }
    },
    {
      "cell_type": "code",
      "source": [
        "original_list[::-1]"
      ],
      "metadata": {
        "id": "BwFEDyUqPgx3"
      },
      "execution_count": null,
      "outputs": []
    },
    {
      "cell_type": "markdown",
      "source": [
        "you try"
      ],
      "metadata": {
        "id": "cP24SLkvRzOJ"
      }
    },
    {
      "cell_type": "code",
      "source": [
        "# [\"a\",\"b\",\"c\"] # reverse this list"
      ],
      "metadata": {
        "id": "1zEUPLB5RV_G"
      },
      "execution_count": null,
      "outputs": []
    },
    {
      "cell_type": "markdown",
      "source": [
        "## loops\n",
        "\n",
        "loops are an extremely powerful technique in programming. write code once, have it execute and abritrary number of times\n",
        "\n",
        "for loops use the same syntax of indentation to define code within the block."
      ],
      "metadata": {
        "id": "oCaf5iU7TNoY"
      }
    },
    {
      "cell_type": "code",
      "source": [
        "for i in range(10):\n",
        "    print(i)\n",
        "\n",
        "print('the end')"
      ],
      "metadata": {
        "id": "B7yok4FuSehX"
      },
      "execution_count": null,
      "outputs": []
    },
    {
      "cell_type": "code",
      "source": [
        "for i in range(10):\n",
        "    print(f\"the result is {i + 99}\")\n"
      ],
      "metadata": {
        "id": "BohUlR7IT7-D"
      },
      "execution_count": null,
      "outputs": []
    },
    {
      "cell_type": "markdown",
      "source": [
        "you try\n",
        "\n",
        "write code to print the following from a list.\n",
        "\n",
        "hello Selena!\n",
        "\n",
        "hello Jose!\n",
        "\n",
        "hello John!\n",
        "\n",
        "hello Hannah!"
      ],
      "metadata": {
        "id": "a7r4kZu2Ux3N"
      }
    },
    {
      "cell_type": "code",
      "source": [
        "#for name in names_list:\n",
        "\n"
      ],
      "metadata": {
        "id": "TIuLfzP2UBDy"
      },
      "execution_count": null,
      "outputs": []
    },
    {
      "cell_type": "markdown",
      "source": [
        "## Dictionaries\n",
        "\n",
        "Can store more complex data than int or string.\n",
        "\n",
        "Stores data as key value pairs.\n",
        "\n",
        "For example first_name is a key and the value is John"
      ],
      "metadata": {
        "id": "440tQ7zlC_LX"
      }
    },
    {
      "cell_type": "code",
      "source": [
        "student = {\n",
        "    \"first_name\": \"John\",\n",
        "    \"last_name\": \"Doe\",\n",
        "    \"age\": 18,\n",
        "    \"grade\": 12,\n",
        "    \"courses\": [\"Math\", \"Science\", \"History\"],\n",
        "    \"gpa\": 3.8\n",
        "}\n",
        "\n",
        "print(type(student['first_name']))\n",
        "print(type(student['last_name']))\n",
        "print(type(student['age']))\n",
        "print(type(student['grade']))\n",
        "print(type(student['courses']))"
      ],
      "metadata": {
        "id": "mOeB9PE87ChE"
      },
      "execution_count": null,
      "outputs": []
    },
    {
      "cell_type": "markdown",
      "source": [
        "### print values"
      ],
      "metadata": {
        "id": "Hpfr44ZFMc0h"
      }
    },
    {
      "cell_type": "code",
      "source": [
        "print(\"Student's First Name:\", student[\"first_name\"])\n",
        "print(\"Student's Age:\", student[\"age\"])\n",
        "print(\"Courses:\", student[\"courses\"])\n"
      ],
      "metadata": {
        "id": "hAUOxBloDf3t"
      },
      "execution_count": null,
      "outputs": []
    },
    {
      "cell_type": "markdown",
      "source": [
        "### access keys"
      ],
      "metadata": {
        "id": "HMiV1tJGMe-P"
      }
    },
    {
      "cell_type": "code",
      "source": [
        "student.update({\"title\": 41})\n",
        "student\n"
      ],
      "metadata": {
        "id": "8-HwbqK_aSs9"
      },
      "execution_count": null,
      "outputs": []
    },
    {
      "cell_type": "code",
      "source": [
        "student.keys()"
      ],
      "metadata": {
        "id": "X1vVoxAHZVTE"
      },
      "execution_count": null,
      "outputs": []
    },
    {
      "cell_type": "code",
      "source": [
        "student.values()"
      ],
      "metadata": {
        "id": "HmN7ZjoLZ4gn"
      },
      "execution_count": null,
      "outputs": []
    },
    {
      "cell_type": "code",
      "source": [
        "student.items()"
      ],
      "metadata": {
        "id": "kwKJecJLZ95R"
      },
      "execution_count": null,
      "outputs": []
    },
    {
      "cell_type": "code",
      "source": [
        "for key in student:\n",
        "    print(key)"
      ],
      "metadata": {
        "id": "IQpXpEKbEnAP"
      },
      "execution_count": null,
      "outputs": []
    },
    {
      "cell_type": "markdown",
      "source": [
        "### update dictionary values"
      ],
      "metadata": {
        "id": "Qiwjn6jZMg02"
      }
    },
    {
      "cell_type": "code",
      "source": [
        "student['age'] = 25\n",
        "student\n"
      ],
      "metadata": {
        "id": "9obuXFfVGK0Y"
      },
      "execution_count": null,
      "outputs": []
    },
    {
      "cell_type": "code",
      "source": [
        "student['courses'][2] = 'English'\n",
        "student\n"
      ],
      "metadata": {
        "id": "OGH6LI8UIVZW"
      },
      "execution_count": null,
      "outputs": []
    },
    {
      "cell_type": "markdown",
      "source": [
        "### nested dictionaries"
      ],
      "metadata": {
        "id": "Z2RtZ_ddMlha"
      }
    },
    {
      "cell_type": "code",
      "source": [
        "student['courses'] = [\n",
        "\n",
        "{\n",
        "    \"course_name\": \"Math\",\n",
        "    \"instructor\": \"Mr. Smith\",\n",
        "    \"schedule\": \"Monday and Wednesday, 10:00 AM - 11:30 AM\",\n",
        "    \"students_enrolled\": 25\n",
        "},\n",
        "\n",
        " {\n",
        "    \"course_name\": \"Science\",\n",
        "    \"instructor\": \"Ms. Johnson\",\n",
        "    \"schedule\": \"Tuesday and Thursday, 2:00 PM - 3:30 PM\",\n",
        "    \"students_enrolled\": 20\n",
        "},\n",
        "{\n",
        "    \"course_name\": \"History\",\n",
        "    \"instructor\": \"Dr. Williams\",\n",
        "    \"schedule\": \"Friday, 9:00 AM - 10:30 AM\",\n",
        "    \"students_enrolled\": 30\n",
        "}]\n",
        "\n",
        "student"
      ],
      "metadata": {
        "id": "NJDRnrV9Igho"
      },
      "execution_count": null,
      "outputs": []
    },
    {
      "cell_type": "markdown",
      "source": [
        "You try\n",
        "\n",
        "create a simple dictionary for a car\n",
        "\n",
        "keys are make,model,year,color"
      ],
      "metadata": {
        "id": "n2iLvMlhKMWL"
      }
    },
    {
      "cell_type": "code",
      "source": [
        "# car dictionary"
      ],
      "metadata": {
        "id": "_NbinVvsJnS5"
      },
      "execution_count": null,
      "outputs": []
    },
    {
      "cell_type": "code",
      "source": [
        "# print the model of the car"
      ],
      "metadata": {
        "id": "OGqtFgJMK7_Q"
      },
      "execution_count": null,
      "outputs": []
    },
    {
      "cell_type": "code",
      "source": [
        "# update the year of the car"
      ],
      "metadata": {
        "id": "lRnSZnj1K_Fk"
      },
      "execution_count": null,
      "outputs": []
    },
    {
      "cell_type": "markdown",
      "source": [
        "# Expressions\n",
        "\n",
        "In programming, an expression is a combination of values, variables, operators, and function calls that can be evaluated to produce a result. Expressions are fundamental building blocks used to perform calculations, manipulate data, and make decisions within a program. They can represent a wide range of operations, from simple arithmetic calculations to complex logical evaluations."
      ],
      "metadata": {
        "id": "3fOVBrqDlEYy"
      }
    },
    {
      "cell_type": "markdown",
      "source": [
        "# Functions\n",
        "\n",
        "when you need to execute the same line or lines of code multiple times you may consider using a function. a function allows you to store code in a name, and then call it many times.\n",
        "\n",
        "see the example below"
      ],
      "metadata": {
        "id": "38OU47NkZNY-"
      }
    },
    {
      "cell_type": "code",
      "source": [
        "def simple_function():\n",
        "  print('hi')\n",
        "\n",
        "simple_function()\n",
        "simple_function()"
      ],
      "metadata": {
        "id": "cMSHWZUsX-np"
      },
      "execution_count": null,
      "outputs": []
    },
    {
      "cell_type": "code",
      "source": [
        "# you try, create a new function, have it print hello world!"
      ],
      "metadata": {
        "id": "v7jwK3lWaVlM"
      },
      "execution_count": null,
      "outputs": []
    },
    {
      "cell_type": "markdown",
      "source": [
        "but what if we want the function to be more dynamic?\n",
        "\n",
        "introducing function parameters"
      ],
      "metadata": {
        "id": "Nt6hGxt7ashi"
      }
    },
    {
      "cell_type": "code",
      "source": [
        "def add_two_numbers(num1, num2):\n",
        "  print(num1 + num2)\n",
        "\n",
        "add_two_numbers(1, 2)\n",
        "add_two_numbers(10, 5)"
      ],
      "metadata": {
        "id": "HLvnwo28abpn"
      },
      "execution_count": null,
      "outputs": []
    },
    {
      "cell_type": "markdown",
      "source": [
        "you try create a new function\n",
        "\n",
        "it takes a first_name and last_name as parameters and prints your name if you pass in your first and last name.\n",
        "\n"
      ],
      "metadata": {
        "id": "BIyKtln1bIgc"
      }
    },
    {
      "cell_type": "code",
      "source": [
        "# your function here"
      ],
      "metadata": {
        "id": "nnklmcSiaqld"
      },
      "execution_count": null,
      "outputs": []
    },
    {
      "cell_type": "markdown",
      "source": [
        "argument defaults"
      ],
      "metadata": {
        "id": "42qQ_FpPb7ub"
      }
    },
    {
      "cell_type": "code",
      "source": [
        "def add_two_numbers(num1=6, num2=5):\n",
        "  print(num1 + num2)\n",
        "\n",
        "add_two_numbers()\n",
        "\n",
        "add_two_numbers(num2=80)"
      ],
      "metadata": {
        "id": "OqEd0XZEb-0Z"
      },
      "execution_count": null,
      "outputs": []
    },
    {
      "cell_type": "markdown",
      "source": [
        "passing arguments by position vs name/keyword"
      ],
      "metadata": {
        "id": "sVR77kircxyr"
      }
    },
    {
      "cell_type": "code",
      "source": [
        "def subtract_two_numbers(num1=6, num2=5):\n",
        "  print(num1 - num2)\n",
        "\n",
        "subtract_two_numbers()\n",
        "\n",
        "subtract_two_numbers(10,3) # 10 - 3 = 7\n",
        "\n",
        "subtract_two_numbers(num2 = 3,num1 = 10) # again 10 - 3 = 7"
      ],
      "metadata": {
        "id": "OtCDjEj2cbHy"
      },
      "execution_count": null,
      "outputs": []
    },
    {
      "cell_type": "code",
      "source": [
        "# you do. call your name printing function again, change the order of the keywords"
      ],
      "metadata": {
        "id": "VbkYVTZGdj0p"
      },
      "execution_count": null,
      "outputs": []
    },
    {
      "cell_type": "code",
      "source": [
        "def say_hello(first_name):\n",
        "  return f\"hello {first_name}\"\n",
        "\n",
        "print(say_hello(\"Lisa\"))\n",
        "print(say_hello(\"Jose\"))\n"
      ],
      "metadata": {
        "id": "K-DX7bq-gnf3"
      },
      "execution_count": null,
      "outputs": []
    },
    {
      "cell_type": "code",
      "source": [
        "for name in names_list:\n",
        "  print(say_hello(name))\n"
      ],
      "metadata": {
        "id": "jwozfHYph2db"
      },
      "execution_count": null,
      "outputs": []
    },
    {
      "cell_type": "markdown",
      "source": [
        "function with if statement in it."
      ],
      "metadata": {
        "id": "zQFR-9dymUd0"
      }
    },
    {
      "cell_type": "code",
      "source": [
        "def first_is_greater(number1, number2):\n",
        "  if number1 > number2:\n",
        "    return True\n",
        "  else:\n",
        "    return False\n",
        "\n",
        "result = first_is_greater(10, 5)\n",
        "print(result)\n",
        "\n",
        "result = first_is_greater(2, 50)\n",
        "print(result)\n"
      ],
      "metadata": {
        "id": "be1O_uM7kYst"
      },
      "execution_count": null,
      "outputs": []
    },
    {
      "cell_type": "markdown",
      "source": [
        "you try\n",
        "\n",
        "* create a function that takes a name. if the name is equal to \"Jose\" print(\"It's Jose\") else print(It's NOT Jose\")\n",
        "\n",
        "* recall the equality operator is ==\n",
        "\n",
        "* run the code twice, once with the name Jose and once with another name."
      ],
      "metadata": {
        "id": "22AliiCVnKI1"
      }
    },
    {
      "cell_type": "code",
      "source": [
        "# your code here"
      ],
      "metadata": {
        "id": "N6UiCnESW6Oe"
      },
      "execution_count": null,
      "outputs": []
    },
    {
      "cell_type": "markdown",
      "source": [
        "### list comprehension"
      ],
      "metadata": {
        "id": "c93e9z_aj3l7"
      }
    },
    {
      "cell_type": "code",
      "source": [
        "hello_list = [say_hello(name) for name in names_list]\n",
        "hello_list"
      ],
      "metadata": {
        "id": "skNYfjBViCgo"
      },
      "execution_count": null,
      "outputs": []
    },
    {
      "cell_type": "markdown",
      "source": [
        "zip\n",
        "\n",
        "take two iterables like lists and combine them element-wise into tuples.  "
      ],
      "metadata": {
        "id": "sAoa7Klp7WsL"
      }
    },
    {
      "cell_type": "code",
      "source": [
        "fruits = ['apples','bananas','oranges']\n",
        "fruit_quantities = [40,100,200]"
      ],
      "metadata": {
        "id": "c6RhbpWSxbzI"
      },
      "execution_count": null,
      "outputs": []
    },
    {
      "cell_type": "markdown",
      "source": [
        "visualize what zip is doing"
      ],
      "metadata": {
        "id": "aQa4PAQg8W8I"
      }
    },
    {
      "cell_type": "code",
      "source": [
        "list(zip(fruits, fruit_quantities))"
      ],
      "metadata": {
        "id": "i4m7oSza7o3P"
      },
      "execution_count": null,
      "outputs": []
    },
    {
      "cell_type": "code",
      "source": [
        "for fruit, fruit_quantity in zip(fruits, fruit_quantities):\n",
        "    print(f\"We have {fruit_quantity} {fruit}\")"
      ],
      "metadata": {
        "id": "hPbzIgqs53AT"
      },
      "execution_count": null,
      "outputs": []
    },
    {
      "cell_type": "markdown",
      "source": [
        "# Objects\n",
        "\n",
        "A brief intro to Object Oriented Programming"
      ],
      "metadata": {
        "id": "eBUfn6iHky9V"
      }
    },
    {
      "cell_type": "code",
      "source": [
        "class Car:\n",
        "    def __init__(self, make, model):\n",
        "        self.make = make\n",
        "        self.model = model\n",
        "\n",
        "    def horn(self):\n",
        "        return f\"beep beep\"\n",
        "\n",
        "    def display_info(self):\n",
        "        return f\"Make: {self.make}, Model: {self.model}\"\n",
        "\n",
        "car = Car(\"Toyota\",\"Rav4\")\n",
        "\n",
        "car.display_info()"
      ],
      "metadata": {
        "id": "mi2pK-a95S_n"
      },
      "execution_count": null,
      "outputs": []
    },
    {
      "cell_type": "markdown",
      "source": [
        "you try\n",
        "\n",
        "create a new instance of a car. give the car a make and model."
      ],
      "metadata": {
        "id": "qxmuip4E6eeg"
      }
    },
    {
      "cell_type": "code",
      "source": [
        "# new car instance"
      ],
      "metadata": {
        "id": "90uYmCw46eC1"
      },
      "execution_count": null,
      "outputs": []
    },
    {
      "cell_type": "markdown",
      "source": [
        "Next add a year property, create a new instance with make,model, year"
      ],
      "metadata": {
        "id": "qNKXpNt881gb"
      }
    },
    {
      "cell_type": "markdown",
      "source": [
        "## Inheritance and Polymorphism\n",
        "\n"
      ],
      "metadata": {
        "id": "YxIWyFVy7RBb"
      }
    },
    {
      "cell_type": "code",
      "source": [
        "class Vehicle():\n",
        "    def __init__(self, brand, model):\n",
        "        self.brand = brand\n",
        "        self.model = model\n",
        "\n",
        "    def display_info(self):\n",
        "        return f\"Brand: {self.brand}, Model: {self.model}\"\n",
        "\n",
        "\n",
        "class Car(Vehicle):\n",
        "    def __init__(self, brand, model, num_doors):\n",
        "        super().__init__(brand, model)\n",
        "        self.num_doors = num_doors\n",
        "\n",
        "    def display_info(self):\n",
        "        vehicle_info = super().display_info()\n",
        "        return f\"{vehicle_info}, Type: Car, Number of Doors: {self.num_doors}\"\n",
        "\n",
        "\n",
        "class Motorcycle(Vehicle):\n",
        "    def __init__(self, brand, model, num_wheels):\n",
        "        super().__init__(brand, model)\n",
        "        self.num_wheels = num_wheels\n",
        "\n",
        "    def display_info(self):\n",
        "        vehicle_info = super().display_info()\n",
        "        return f\"{vehicle_info}, Type: Motorcycle, Number of Wheels: {self.num_wheels}\"\n",
        "\n",
        "\n",
        "class Plane(Vehicle):\n",
        "    def __init__(self, brand, model, wingspan):\n",
        "        super().__init__(brand, model)\n",
        "        self.wingspan = wingspan\n",
        "\n",
        "    def display_info(self):\n",
        "        vehicle_info = super().display_info()\n",
        "        return f\"{vehicle_info}, Type: Plane, Wingspan: {self.wingspan}\"\n",
        "\n",
        "\n",
        "# Creating instances of the subclasses\n",
        "car = Car(\"Toyota\", \"Camry\", 4)\n",
        "motorcycle = Motorcycle(\"Harley-Davidson\", \"Street 750\", 2)\n",
        "plane = Plane(\"Boeing\", \"747\", \"68.4 meters\")\n",
        "\n",
        "# Displaying information about the vehicles\n",
        "print(car.display_info())\n",
        "print(motorcycle.display_info())\n",
        "print(plane.display_info())\n"
      ],
      "metadata": {
        "id": "WaqDiAg9wpRu"
      },
      "execution_count": null,
      "outputs": []
    },
    {
      "cell_type": "markdown",
      "source": [],
      "metadata": {
        "id": "KeUktjnQ9Gpc"
      }
    },
    {
      "cell_type": "code",
      "source": [
        "numbers = [1,2,3,4,5,6,7,8,9,10]\n",
        "numbers[1::2]"
      ],
      "metadata": {
        "id": "soDjcNGu6RhM"
      },
      "execution_count": null,
      "outputs": []
    },
    {
      "cell_type": "markdown",
      "source": [
        "# Lambda function"
      ],
      "metadata": {
        "id": "yN40z-hGI6fu"
      }
    },
    {
      "cell_type": "code",
      "source": [
        "names = [\"John\",\"Jose\",\"Louise\"]\n",
        "names_three_chars = list(map(lambda name: name[0:2], names))\n",
        "print(names_three_chars)"
      ],
      "metadata": {
        "id": "9wY252qL-u8P"
      },
      "execution_count": null,
      "outputs": []
    },
    {
      "cell_type": "code",
      "source": [
        "words = [\"apple\", \"banana\", \"cherry\", \"date\", \"fig\"]\n",
        "first_three_chars = list(map(lambda word: word[:3], words))\n",
        "print(first_three_chars)"
      ],
      "metadata": {
        "id": "jkgdwCOEJKHx"
      },
      "execution_count": null,
      "outputs": []
    },
    {
      "cell_type": "markdown",
      "source": [
        "Convert Fahrenheit to Celsius:"
      ],
      "metadata": {
        "id": "IxcHg85pKt0F"
      }
    },
    {
      "cell_type": "code",
      "source": [
        "fahrenheit_temps = [32, 68, 86, 104]\n",
        "celsius_temps = list(map(lambda f: (f - 32) * 5/9, fahrenheit_temps))\n",
        "print(celsius_temps)  # Output: [0.0, 20.0, 30.0, 40.0]\n"
      ],
      "metadata": {
        "id": "dlzPIOvmKqgH"
      },
      "execution_count": null,
      "outputs": []
    },
    {
      "cell_type": "markdown",
      "source": [
        "# Libraries\n",
        "\n",
        "Libraries allow us to extend Python functionality to accomplish specific tasks. Some libraries are huge and cover many areas others are small and quite specific.\n",
        "\n",
        "Suppose we want to round a float down to an int"
      ],
      "metadata": {
        "id": "iFbF863PN6hK"
      }
    },
    {
      "cell_type": "code",
      "source": [
        "import math"
      ],
      "metadata": {
        "id": "nBgCzi8dO_yi"
      },
      "execution_count": null,
      "outputs": []
    },
    {
      "cell_type": "code",
      "source": [
        "math.floor(3.2)"
      ],
      "metadata": {
        "id": "iX2fVQeeO-Bn"
      },
      "execution_count": null,
      "outputs": []
    },
    {
      "cell_type": "code",
      "source": [
        "import pandas as pd"
      ],
      "metadata": {
        "id": "UImkFEvLO_AF"
      },
      "execution_count": 273,
      "outputs": []
    },
    {
      "cell_type": "code",
      "source": [
        "insurance_dataset = pd.read_csv(\"https://raw.githubusercontent.com/matthewpecsok/4482_fall_2022/main/data/insurance.csv\")"
      ],
      "metadata": {
        "id": "vQED8KS4EuHY"
      },
      "execution_count": 274,
      "outputs": []
    },
    {
      "cell_type": "code",
      "source": [
        "insurance_dataset.head()"
      ],
      "metadata": {
        "colab": {
          "base_uri": "https://localhost:8080/",
          "height": 206
        },
        "id": "vG9u6q4RE7_C",
        "outputId": "63325e4b-92f3-4bb8-82fc-c08ec0cf1ae8"
      },
      "execution_count": 277,
      "outputs": [
        {
          "output_type": "execute_result",
          "data": {
            "text/plain": [
              "   age     sex     bmi  children smoker     region     expenses\n",
              "0   19  female  27.900         0    yes  southwest  16884.92400\n",
              "1   18    male  33.770         1     no  southeast   1725.55230\n",
              "2   28    male  33.000         3     no  southeast   4449.46200\n",
              "3   33    male  22.705         0     no  northwest  21984.47061\n",
              "4   32    male  28.880         0     no  northwest   3866.85520"
            ],
            "text/html": [
              "\n",
              "  <div id=\"df-5761ef5b-aa98-4550-bf1c-a0cace150522\" class=\"colab-df-container\">\n",
              "    <div>\n",
              "<style scoped>\n",
              "    .dataframe tbody tr th:only-of-type {\n",
              "        vertical-align: middle;\n",
              "    }\n",
              "\n",
              "    .dataframe tbody tr th {\n",
              "        vertical-align: top;\n",
              "    }\n",
              "\n",
              "    .dataframe thead th {\n",
              "        text-align: right;\n",
              "    }\n",
              "</style>\n",
              "<table border=\"1\" class=\"dataframe\">\n",
              "  <thead>\n",
              "    <tr style=\"text-align: right;\">\n",
              "      <th></th>\n",
              "      <th>age</th>\n",
              "      <th>sex</th>\n",
              "      <th>bmi</th>\n",
              "      <th>children</th>\n",
              "      <th>smoker</th>\n",
              "      <th>region</th>\n",
              "      <th>expenses</th>\n",
              "    </tr>\n",
              "  </thead>\n",
              "  <tbody>\n",
              "    <tr>\n",
              "      <th>0</th>\n",
              "      <td>19</td>\n",
              "      <td>female</td>\n",
              "      <td>27.900</td>\n",
              "      <td>0</td>\n",
              "      <td>yes</td>\n",
              "      <td>southwest</td>\n",
              "      <td>16884.92400</td>\n",
              "    </tr>\n",
              "    <tr>\n",
              "      <th>1</th>\n",
              "      <td>18</td>\n",
              "      <td>male</td>\n",
              "      <td>33.770</td>\n",
              "      <td>1</td>\n",
              "      <td>no</td>\n",
              "      <td>southeast</td>\n",
              "      <td>1725.55230</td>\n",
              "    </tr>\n",
              "    <tr>\n",
              "      <th>2</th>\n",
              "      <td>28</td>\n",
              "      <td>male</td>\n",
              "      <td>33.000</td>\n",
              "      <td>3</td>\n",
              "      <td>no</td>\n",
              "      <td>southeast</td>\n",
              "      <td>4449.46200</td>\n",
              "    </tr>\n",
              "    <tr>\n",
              "      <th>3</th>\n",
              "      <td>33</td>\n",
              "      <td>male</td>\n",
              "      <td>22.705</td>\n",
              "      <td>0</td>\n",
              "      <td>no</td>\n",
              "      <td>northwest</td>\n",
              "      <td>21984.47061</td>\n",
              "    </tr>\n",
              "    <tr>\n",
              "      <th>4</th>\n",
              "      <td>32</td>\n",
              "      <td>male</td>\n",
              "      <td>28.880</td>\n",
              "      <td>0</td>\n",
              "      <td>no</td>\n",
              "      <td>northwest</td>\n",
              "      <td>3866.85520</td>\n",
              "    </tr>\n",
              "  </tbody>\n",
              "</table>\n",
              "</div>\n",
              "    <div class=\"colab-df-buttons\">\n",
              "\n",
              "  <div class=\"colab-df-container\">\n",
              "    <button class=\"colab-df-convert\" onclick=\"convertToInteractive('df-5761ef5b-aa98-4550-bf1c-a0cace150522')\"\n",
              "            title=\"Convert this dataframe to an interactive table.\"\n",
              "            style=\"display:none;\">\n",
              "\n",
              "  <svg xmlns=\"http://www.w3.org/2000/svg\" height=\"24px\" viewBox=\"0 -960 960 960\">\n",
              "    <path d=\"M120-120v-720h720v720H120Zm60-500h600v-160H180v160Zm220 220h160v-160H400v160Zm0 220h160v-160H400v160ZM180-400h160v-160H180v160Zm440 0h160v-160H620v160ZM180-180h160v-160H180v160Zm440 0h160v-160H620v160Z\"/>\n",
              "  </svg>\n",
              "    </button>\n",
              "\n",
              "  <style>\n",
              "    .colab-df-container {\n",
              "      display:flex;\n",
              "      gap: 12px;\n",
              "    }\n",
              "\n",
              "    .colab-df-convert {\n",
              "      background-color: #E8F0FE;\n",
              "      border: none;\n",
              "      border-radius: 50%;\n",
              "      cursor: pointer;\n",
              "      display: none;\n",
              "      fill: #1967D2;\n",
              "      height: 32px;\n",
              "      padding: 0 0 0 0;\n",
              "      width: 32px;\n",
              "    }\n",
              "\n",
              "    .colab-df-convert:hover {\n",
              "      background-color: #E2EBFA;\n",
              "      box-shadow: 0px 1px 2px rgba(60, 64, 67, 0.3), 0px 1px 3px 1px rgba(60, 64, 67, 0.15);\n",
              "      fill: #174EA6;\n",
              "    }\n",
              "\n",
              "    .colab-df-buttons div {\n",
              "      margin-bottom: 4px;\n",
              "    }\n",
              "\n",
              "    [theme=dark] .colab-df-convert {\n",
              "      background-color: #3B4455;\n",
              "      fill: #D2E3FC;\n",
              "    }\n",
              "\n",
              "    [theme=dark] .colab-df-convert:hover {\n",
              "      background-color: #434B5C;\n",
              "      box-shadow: 0px 1px 3px 1px rgba(0, 0, 0, 0.15);\n",
              "      filter: drop-shadow(0px 1px 2px rgba(0, 0, 0, 0.3));\n",
              "      fill: #FFFFFF;\n",
              "    }\n",
              "  </style>\n",
              "\n",
              "    <script>\n",
              "      const buttonEl =\n",
              "        document.querySelector('#df-5761ef5b-aa98-4550-bf1c-a0cace150522 button.colab-df-convert');\n",
              "      buttonEl.style.display =\n",
              "        google.colab.kernel.accessAllowed ? 'block' : 'none';\n",
              "\n",
              "      async function convertToInteractive(key) {\n",
              "        const element = document.querySelector('#df-5761ef5b-aa98-4550-bf1c-a0cace150522');\n",
              "        const dataTable =\n",
              "          await google.colab.kernel.invokeFunction('convertToInteractive',\n",
              "                                                    [key], {});\n",
              "        if (!dataTable) return;\n",
              "\n",
              "        const docLinkHtml = 'Like what you see? Visit the ' +\n",
              "          '<a target=\"_blank\" href=https://colab.research.google.com/notebooks/data_table.ipynb>data table notebook</a>'\n",
              "          + ' to learn more about interactive tables.';\n",
              "        element.innerHTML = '';\n",
              "        dataTable['output_type'] = 'display_data';\n",
              "        await google.colab.output.renderOutput(dataTable, element);\n",
              "        const docLink = document.createElement('div');\n",
              "        docLink.innerHTML = docLinkHtml;\n",
              "        element.appendChild(docLink);\n",
              "      }\n",
              "    </script>\n",
              "  </div>\n",
              "\n",
              "\n",
              "<div id=\"df-00ea61ff-52fc-43a9-b196-7bfe87e6c978\">\n",
              "  <button class=\"colab-df-quickchart\" onclick=\"quickchart('df-00ea61ff-52fc-43a9-b196-7bfe87e6c978')\"\n",
              "            title=\"Suggest charts\"\n",
              "            style=\"display:none;\">\n",
              "\n",
              "<svg xmlns=\"http://www.w3.org/2000/svg\" height=\"24px\"viewBox=\"0 0 24 24\"\n",
              "     width=\"24px\">\n",
              "    <g>\n",
              "        <path d=\"M19 3H5c-1.1 0-2 .9-2 2v14c0 1.1.9 2 2 2h14c1.1 0 2-.9 2-2V5c0-1.1-.9-2-2-2zM9 17H7v-7h2v7zm4 0h-2V7h2v10zm4 0h-2v-4h2v4z\"/>\n",
              "    </g>\n",
              "</svg>\n",
              "  </button>\n",
              "\n",
              "<style>\n",
              "  .colab-df-quickchart {\n",
              "      --bg-color: #E8F0FE;\n",
              "      --fill-color: #1967D2;\n",
              "      --hover-bg-color: #E2EBFA;\n",
              "      --hover-fill-color: #174EA6;\n",
              "      --disabled-fill-color: #AAA;\n",
              "      --disabled-bg-color: #DDD;\n",
              "  }\n",
              "\n",
              "  [theme=dark] .colab-df-quickchart {\n",
              "      --bg-color: #3B4455;\n",
              "      --fill-color: #D2E3FC;\n",
              "      --hover-bg-color: #434B5C;\n",
              "      --hover-fill-color: #FFFFFF;\n",
              "      --disabled-bg-color: #3B4455;\n",
              "      --disabled-fill-color: #666;\n",
              "  }\n",
              "\n",
              "  .colab-df-quickchart {\n",
              "    background-color: var(--bg-color);\n",
              "    border: none;\n",
              "    border-radius: 50%;\n",
              "    cursor: pointer;\n",
              "    display: none;\n",
              "    fill: var(--fill-color);\n",
              "    height: 32px;\n",
              "    padding: 0;\n",
              "    width: 32px;\n",
              "  }\n",
              "\n",
              "  .colab-df-quickchart:hover {\n",
              "    background-color: var(--hover-bg-color);\n",
              "    box-shadow: 0 1px 2px rgba(60, 64, 67, 0.3), 0 1px 3px 1px rgba(60, 64, 67, 0.15);\n",
              "    fill: var(--button-hover-fill-color);\n",
              "  }\n",
              "\n",
              "  .colab-df-quickchart-complete:disabled,\n",
              "  .colab-df-quickchart-complete:disabled:hover {\n",
              "    background-color: var(--disabled-bg-color);\n",
              "    fill: var(--disabled-fill-color);\n",
              "    box-shadow: none;\n",
              "  }\n",
              "\n",
              "  .colab-df-spinner {\n",
              "    border: 2px solid var(--fill-color);\n",
              "    border-color: transparent;\n",
              "    border-bottom-color: var(--fill-color);\n",
              "    animation:\n",
              "      spin 1s steps(1) infinite;\n",
              "  }\n",
              "\n",
              "  @keyframes spin {\n",
              "    0% {\n",
              "      border-color: transparent;\n",
              "      border-bottom-color: var(--fill-color);\n",
              "      border-left-color: var(--fill-color);\n",
              "    }\n",
              "    20% {\n",
              "      border-color: transparent;\n",
              "      border-left-color: var(--fill-color);\n",
              "      border-top-color: var(--fill-color);\n",
              "    }\n",
              "    30% {\n",
              "      border-color: transparent;\n",
              "      border-left-color: var(--fill-color);\n",
              "      border-top-color: var(--fill-color);\n",
              "      border-right-color: var(--fill-color);\n",
              "    }\n",
              "    40% {\n",
              "      border-color: transparent;\n",
              "      border-right-color: var(--fill-color);\n",
              "      border-top-color: var(--fill-color);\n",
              "    }\n",
              "    60% {\n",
              "      border-color: transparent;\n",
              "      border-right-color: var(--fill-color);\n",
              "    }\n",
              "    80% {\n",
              "      border-color: transparent;\n",
              "      border-right-color: var(--fill-color);\n",
              "      border-bottom-color: var(--fill-color);\n",
              "    }\n",
              "    90% {\n",
              "      border-color: transparent;\n",
              "      border-bottom-color: var(--fill-color);\n",
              "    }\n",
              "  }\n",
              "</style>\n",
              "\n",
              "  <script>\n",
              "    async function quickchart(key) {\n",
              "      const quickchartButtonEl =\n",
              "        document.querySelector('#' + key + ' button');\n",
              "      quickchartButtonEl.disabled = true;  // To prevent multiple clicks.\n",
              "      quickchartButtonEl.classList.add('colab-df-spinner');\n",
              "      try {\n",
              "        const charts = await google.colab.kernel.invokeFunction(\n",
              "            'suggestCharts', [key], {});\n",
              "      } catch (error) {\n",
              "        console.error('Error during call to suggestCharts:', error);\n",
              "      }\n",
              "      quickchartButtonEl.classList.remove('colab-df-spinner');\n",
              "      quickchartButtonEl.classList.add('colab-df-quickchart-complete');\n",
              "    }\n",
              "    (() => {\n",
              "      let quickchartButtonEl =\n",
              "        document.querySelector('#df-00ea61ff-52fc-43a9-b196-7bfe87e6c978 button');\n",
              "      quickchartButtonEl.style.display =\n",
              "        google.colab.kernel.accessAllowed ? 'block' : 'none';\n",
              "    })();\n",
              "  </script>\n",
              "</div>\n",
              "\n",
              "    </div>\n",
              "  </div>\n"
            ]
          },
          "metadata": {},
          "execution_count": 277
        }
      ]
    },
    {
      "cell_type": "code",
      "source": [
        "insurance_dataset.info()"
      ],
      "metadata": {
        "colab": {
          "base_uri": "https://localhost:8080/"
        },
        "id": "F_D-K-ewEzqH",
        "outputId": "2c7cef9c-0439-4f69-9fee-886667e95e18"
      },
      "execution_count": 275,
      "outputs": [
        {
          "output_type": "stream",
          "name": "stdout",
          "text": [
            "<class 'pandas.core.frame.DataFrame'>\n",
            "RangeIndex: 1338 entries, 0 to 1337\n",
            "Data columns (total 7 columns):\n",
            " #   Column    Non-Null Count  Dtype  \n",
            "---  ------    --------------  -----  \n",
            " 0   age       1338 non-null   int64  \n",
            " 1   sex       1338 non-null   object \n",
            " 2   bmi       1338 non-null   float64\n",
            " 3   children  1338 non-null   int64  \n",
            " 4   smoker    1338 non-null   object \n",
            " 5   region    1338 non-null   object \n",
            " 6   expenses  1338 non-null   float64\n",
            "dtypes: float64(2), int64(2), object(3)\n",
            "memory usage: 73.3+ KB\n"
          ]
        }
      ]
    },
    {
      "cell_type": "code",
      "source": [
        "insurance_dataset.smoker.value_counts()"
      ],
      "metadata": {
        "colab": {
          "base_uri": "https://localhost:8080/"
        },
        "id": "gzgX7MwLE1YF",
        "outputId": "9473f64a-84bb-4383-a3e0-0db7e5e0dbc5"
      },
      "execution_count": 276,
      "outputs": [
        {
          "output_type": "execute_result",
          "data": {
            "text/plain": [
              "no     1064\n",
              "yes     274\n",
              "Name: smoker, dtype: int64"
            ]
          },
          "metadata": {},
          "execution_count": 276
        }
      ]
    },
    {
      "cell_type": "code",
      "source": [
        "insurance_dataset.sex.value_counts().plot(kind=\"bar\")"
      ],
      "metadata": {
        "colab": {
          "base_uri": "https://localhost:8080/",
          "height": 481
        },
        "id": "l7zIp1YYE6An",
        "outputId": "2f102965-ec5b-4833-f136-ba8136c3388f"
      },
      "execution_count": 279,
      "outputs": [
        {
          "output_type": "execute_result",
          "data": {
            "text/plain": [
              "<Axes: >"
            ]
          },
          "metadata": {},
          "execution_count": 279
        },
        {
          "output_type": "display_data",
          "data": {
            "text/plain": [
              "<Figure size 640x480 with 1 Axes>"
            ],
            "image/png": "[encoded data removed]"
          },
          "metadata": {}
        }
      ]
    },
    {
      "cell_type": "code",
      "source": [
        "insurance_dataset.age.plot(kind=\"hist\")"
      ],
      "metadata": {
        "colab": {
          "base_uri": "https://localhost:8080/",
          "height": 447
        },
        "id": "s8xtKgmPFLt3",
        "outputId": "59f7a7c0-7ed3-4c5f-9fca-825ee0495dcb"
      },
      "execution_count": 280,
      "outputs": [
        {
          "output_type": "execute_result",
          "data": {
            "text/plain": [
              "<Axes: ylabel='Frequency'>"
            ]
          },
          "metadata": {},
          "execution_count": 280
        },
        {
          "output_type": "display_data",
          "data": {
            "text/plain": [
              "<Figure size 640x480 with 1 Axes>"
            ],
            "image/png": "[encoded data removed]"
          },
          "metadata": {}
        }
      ]
    },
    {
      "cell_type": "code",
      "source": [],
      "metadata": {
        "id": "8wowWDQQFUlW"
      },
      "execution_count": null,
      "outputs": []
    }
  ]
}